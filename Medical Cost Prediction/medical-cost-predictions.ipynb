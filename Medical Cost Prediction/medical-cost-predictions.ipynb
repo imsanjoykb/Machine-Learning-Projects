{
 "cells": [
  {
   "cell_type": "markdown",
   "id": "adfe4e80",
   "metadata": {
    "papermill": {
     "duration": 0.02529,
     "end_time": "2021-08-04T17:14:27.706157",
     "exception": false,
     "start_time": "2021-08-04T17:14:27.680867",
     "status": "completed"
    },
    "tags": []
   },
   "source": [
    "# Predicting Medical Cost 📜"
   ]
  },
  {
   "cell_type": "markdown",
   "id": "fb992375",
   "metadata": {
    "papermill": {
     "duration": 0.023894,
     "end_time": "2021-08-04T17:14:27.754418",
     "exception": false,
     "start_time": "2021-08-04T17:14:27.730524",
     "status": "completed"
    },
    "tags": []
   },
   "source": [
    "#### If you like my work, It will be really great of you to upvote this notebook!\n",
    "#### If not then you leaving a comment on what do I need to work on and improve will be really helpful!"
   ]
  },
  {
   "cell_type": "markdown",
   "id": "d930b531",
   "metadata": {
    "papermill": {
     "duration": 0.023976,
     "end_time": "2021-08-04T17:14:27.803158",
     "exception": false,
     "start_time": "2021-08-04T17:14:27.779182",
     "status": "completed"
    },
    "tags": []
   },
   "source": [
    "## Importing Libraries"
   ]
  },
  {
   "cell_type": "code",
   "execution_count": 1,
   "id": "9cc5ebb6",
   "metadata": {
    "_cell_guid": "b1076dfc-b9ad-4769-8c92-a6c4dae69d19",
    "_uuid": "8f2839f25d086af736a60e9eeb907d3b93b6e0e5",
    "execution": {
     "iopub.execute_input": "2021-08-04T17:14:27.861959Z",
     "iopub.status.busy": "2021-08-04T17:14:27.861307Z",
     "iopub.status.idle": "2021-08-04T17:14:28.800802Z",
     "shell.execute_reply": "2021-08-04T17:14:28.800018Z",
     "shell.execute_reply.started": "2021-08-04T17:08:47.423016Z"
    },
    "papermill": {
     "duration": 0.973274,
     "end_time": "2021-08-04T17:14:28.800968",
     "exception": false,
     "start_time": "2021-08-04T17:14:27.827694",
     "status": "completed"
    },
    "tags": []
   },
   "outputs": [],
   "source": [
    "import pandas as pd\n",
    "import numpy as np\n",
    "import matplotlib.pyplot as plt\n",
    "import seaborn as sns\n",
    "import warnings\n",
    "warnings.simplefilter(\"ignore\")"
   ]
  },
  {
   "cell_type": "markdown",
   "id": "9cd442b9",
   "metadata": {
    "papermill": {
     "duration": 0.02375,
     "end_time": "2021-08-04T17:14:28.850037",
     "exception": false,
     "start_time": "2021-08-04T17:14:28.826287",
     "status": "completed"
    },
    "tags": []
   },
   "source": [
    "## Loading up the data"
   ]
  },
  {
   "cell_type": "code",
   "execution_count": 2,
   "id": "720d2d1b",
   "metadata": {
    "execution": {
     "iopub.execute_input": "2021-08-04T17:14:28.904447Z",
     "iopub.status.busy": "2021-08-04T17:14:28.903818Z",
     "iopub.status.idle": "2021-08-04T17:14:28.949141Z",
     "shell.execute_reply": "2021-08-04T17:14:28.949575Z",
     "shell.execute_reply.started": "2021-08-04T17:08:47.836445Z"
    },
    "papermill": {
     "duration": 0.074698,
     "end_time": "2021-08-04T17:14:28.949756",
     "exception": false,
     "start_time": "2021-08-04T17:14:28.875058",
     "status": "completed"
    },
    "tags": []
   },
   "outputs": [
    {
     "data": {
      "text/html": [
       "<div>\n",
       "<style scoped>\n",
       "    .dataframe tbody tr th:only-of-type {\n",
       "        vertical-align: middle;\n",
       "    }\n",
       "\n",
       "    .dataframe tbody tr th {\n",
       "        vertical-align: top;\n",
       "    }\n",
       "\n",
       "    .dataframe thead th {\n",
       "        text-align: right;\n",
       "    }\n",
       "</style>\n",
       "<table border=\"1\" class=\"dataframe\">\n",
       "  <thead>\n",
       "    <tr style=\"text-align: right;\">\n",
       "      <th></th>\n",
       "      <th>age</th>\n",
       "      <th>sex</th>\n",
       "      <th>bmi</th>\n",
       "      <th>children</th>\n",
       "      <th>smoker</th>\n",
       "      <th>region</th>\n",
       "      <th>charges</th>\n",
       "    </tr>\n",
       "  </thead>\n",
       "  <tbody>\n",
       "    <tr>\n",
       "      <th>0</th>\n",
       "      <td>19</td>\n",
       "      <td>female</td>\n",
       "      <td>27.900</td>\n",
       "      <td>0</td>\n",
       "      <td>yes</td>\n",
       "      <td>southwest</td>\n",
       "      <td>16884.92400</td>\n",
       "    </tr>\n",
       "    <tr>\n",
       "      <th>1</th>\n",
       "      <td>18</td>\n",
       "      <td>male</td>\n",
       "      <td>33.770</td>\n",
       "      <td>1</td>\n",
       "      <td>no</td>\n",
       "      <td>southeast</td>\n",
       "      <td>1725.55230</td>\n",
       "    </tr>\n",
       "    <tr>\n",
       "      <th>2</th>\n",
       "      <td>28</td>\n",
       "      <td>male</td>\n",
       "      <td>33.000</td>\n",
       "      <td>3</td>\n",
       "      <td>no</td>\n",
       "      <td>southeast</td>\n",
       "      <td>4449.46200</td>\n",
       "    </tr>\n",
       "    <tr>\n",
       "      <th>3</th>\n",
       "      <td>33</td>\n",
       "      <td>male</td>\n",
       "      <td>22.705</td>\n",
       "      <td>0</td>\n",
       "      <td>no</td>\n",
       "      <td>northwest</td>\n",
       "      <td>21984.47061</td>\n",
       "    </tr>\n",
       "    <tr>\n",
       "      <th>4</th>\n",
       "      <td>32</td>\n",
       "      <td>male</td>\n",
       "      <td>28.880</td>\n",
       "      <td>0</td>\n",
       "      <td>no</td>\n",
       "      <td>northwest</td>\n",
       "      <td>3866.85520</td>\n",
       "    </tr>\n",
       "  </tbody>\n",
       "</table>\n",
       "</div>"
      ],
      "text/plain": [
       "   age     sex     bmi  children smoker     region      charges\n",
       "0   19  female  27.900         0    yes  southwest  16884.92400\n",
       "1   18    male  33.770         1     no  southeast   1725.55230\n",
       "2   28    male  33.000         3     no  southeast   4449.46200\n",
       "3   33    male  22.705         0     no  northwest  21984.47061\n",
       "4   32    male  28.880         0     no  northwest   3866.85520"
      ]
     },
     "execution_count": 2,
     "metadata": {},
     "output_type": "execute_result"
    }
   ],
   "source": [
    "df = pd.read_csv(\"../input/insurance/insurance.csv\")\n",
    "df.head()"
   ]
  },
  {
   "cell_type": "code",
   "execution_count": 3,
   "id": "c45bd8f8",
   "metadata": {
    "execution": {
     "iopub.execute_input": "2021-08-04T17:14:29.002697Z",
     "iopub.status.busy": "2021-08-04T17:14:29.002069Z",
     "iopub.status.idle": "2021-08-04T17:14:29.007539Z",
     "shell.execute_reply": "2021-08-04T17:14:29.007090Z",
     "shell.execute_reply.started": "2021-08-04T17:08:47.874955Z"
    },
    "papermill": {
     "duration": 0.032739,
     "end_time": "2021-08-04T17:14:29.007691",
     "exception": false,
     "start_time": "2021-08-04T17:14:28.974952",
     "status": "completed"
    },
    "tags": []
   },
   "outputs": [
    {
     "data": {
      "text/plain": [
       "(1338, 7)"
      ]
     },
     "execution_count": 3,
     "metadata": {},
     "output_type": "execute_result"
    }
   ],
   "source": [
    "df.shape"
   ]
  },
  {
   "cell_type": "code",
   "execution_count": 4,
   "id": "3eecaba4",
   "metadata": {
    "execution": {
     "iopub.execute_input": "2021-08-04T17:14:29.065516Z",
     "iopub.status.busy": "2021-08-04T17:14:29.064901Z",
     "iopub.status.idle": "2021-08-04T17:14:29.075942Z",
     "shell.execute_reply": "2021-08-04T17:14:29.075392Z",
     "shell.execute_reply.started": "2021-08-04T17:08:47.884342Z"
    },
    "papermill": {
     "duration": 0.043113,
     "end_time": "2021-08-04T17:14:29.076092",
     "exception": false,
     "start_time": "2021-08-04T17:14:29.032979",
     "status": "completed"
    },
    "tags": []
   },
   "outputs": [
    {
     "data": {
      "text/plain": [
       "age         0\n",
       "sex         0\n",
       "bmi         0\n",
       "children    0\n",
       "smoker      0\n",
       "region      0\n",
       "charges     0\n",
       "dtype: int64"
      ]
     },
     "execution_count": 4,
     "metadata": {},
     "output_type": "execute_result"
    }
   ],
   "source": [
    "df.isna().sum()"
   ]
  },
  {
   "cell_type": "code",
   "execution_count": 5,
   "id": "dd9f5113",
   "metadata": {
    "execution": {
     "iopub.execute_input": "2021-08-04T17:14:29.135694Z",
     "iopub.status.busy": "2021-08-04T17:14:29.134753Z",
     "iopub.status.idle": "2021-08-04T17:14:29.159593Z",
     "shell.execute_reply": "2021-08-04T17:14:29.160379Z",
     "shell.execute_reply.started": "2021-08-04T17:08:47.905675Z"
    },
    "papermill": {
     "duration": 0.055457,
     "end_time": "2021-08-04T17:14:29.160627",
     "exception": false,
     "start_time": "2021-08-04T17:14:29.105170",
     "status": "completed"
    },
    "tags": []
   },
   "outputs": [
    {
     "data": {
      "text/html": [
       "<div>\n",
       "<style scoped>\n",
       "    .dataframe tbody tr th:only-of-type {\n",
       "        vertical-align: middle;\n",
       "    }\n",
       "\n",
       "    .dataframe tbody tr th {\n",
       "        vertical-align: top;\n",
       "    }\n",
       "\n",
       "    .dataframe thead th {\n",
       "        text-align: right;\n",
       "    }\n",
       "</style>\n",
       "<table border=\"1\" class=\"dataframe\">\n",
       "  <thead>\n",
       "    <tr style=\"text-align: right;\">\n",
       "      <th></th>\n",
       "      <th>age</th>\n",
       "      <th>bmi</th>\n",
       "      <th>children</th>\n",
       "      <th>charges</th>\n",
       "    </tr>\n",
       "  </thead>\n",
       "  <tbody>\n",
       "    <tr>\n",
       "      <th>count</th>\n",
       "      <td>1338.000000</td>\n",
       "      <td>1338.000000</td>\n",
       "      <td>1338.000000</td>\n",
       "      <td>1338.000000</td>\n",
       "    </tr>\n",
       "    <tr>\n",
       "      <th>mean</th>\n",
       "      <td>39.207025</td>\n",
       "      <td>30.663397</td>\n",
       "      <td>1.094918</td>\n",
       "      <td>13270.422265</td>\n",
       "    </tr>\n",
       "    <tr>\n",
       "      <th>std</th>\n",
       "      <td>14.049960</td>\n",
       "      <td>6.098187</td>\n",
       "      <td>1.205493</td>\n",
       "      <td>12110.011237</td>\n",
       "    </tr>\n",
       "    <tr>\n",
       "      <th>min</th>\n",
       "      <td>18.000000</td>\n",
       "      <td>15.960000</td>\n",
       "      <td>0.000000</td>\n",
       "      <td>1121.873900</td>\n",
       "    </tr>\n",
       "    <tr>\n",
       "      <th>25%</th>\n",
       "      <td>27.000000</td>\n",
       "      <td>26.296250</td>\n",
       "      <td>0.000000</td>\n",
       "      <td>4740.287150</td>\n",
       "    </tr>\n",
       "    <tr>\n",
       "      <th>50%</th>\n",
       "      <td>39.000000</td>\n",
       "      <td>30.400000</td>\n",
       "      <td>1.000000</td>\n",
       "      <td>9382.033000</td>\n",
       "    </tr>\n",
       "    <tr>\n",
       "      <th>75%</th>\n",
       "      <td>51.000000</td>\n",
       "      <td>34.693750</td>\n",
       "      <td>2.000000</td>\n",
       "      <td>16639.912515</td>\n",
       "    </tr>\n",
       "    <tr>\n",
       "      <th>max</th>\n",
       "      <td>64.000000</td>\n",
       "      <td>53.130000</td>\n",
       "      <td>5.000000</td>\n",
       "      <td>63770.428010</td>\n",
       "    </tr>\n",
       "  </tbody>\n",
       "</table>\n",
       "</div>"
      ],
      "text/plain": [
       "               age          bmi     children       charges\n",
       "count  1338.000000  1338.000000  1338.000000   1338.000000\n",
       "mean     39.207025    30.663397     1.094918  13270.422265\n",
       "std      14.049960     6.098187     1.205493  12110.011237\n",
       "min      18.000000    15.960000     0.000000   1121.873900\n",
       "25%      27.000000    26.296250     0.000000   4740.287150\n",
       "50%      39.000000    30.400000     1.000000   9382.033000\n",
       "75%      51.000000    34.693750     2.000000  16639.912515\n",
       "max      64.000000    53.130000     5.000000  63770.428010"
      ]
     },
     "execution_count": 5,
     "metadata": {},
     "output_type": "execute_result"
    }
   ],
   "source": [
    "df.describe()"
   ]
  },
  {
   "cell_type": "code",
   "execution_count": 6,
   "id": "7e75af9c",
   "metadata": {
    "execution": {
     "iopub.execute_input": "2021-08-04T17:14:29.217362Z",
     "iopub.status.busy": "2021-08-04T17:14:29.216789Z",
     "iopub.status.idle": "2021-08-04T17:14:29.223313Z",
     "shell.execute_reply": "2021-08-04T17:14:29.223808Z",
     "shell.execute_reply.started": "2021-08-04T17:08:47.944507Z"
    },
    "papermill": {
     "duration": 0.035096,
     "end_time": "2021-08-04T17:14:29.223969",
     "exception": false,
     "start_time": "2021-08-04T17:14:29.188873",
     "status": "completed"
    },
    "tags": []
   },
   "outputs": [],
   "source": [
    "# male : 0, female : 1\n",
    "df[\"sex\"] = df[\"sex\"].map({\"male\":0, \"female\":1})\n",
    "\n",
    "# yes : 0, no : 1\n",
    "df[\"smoker\"] = df[\"smoker\"].map({\"yes\":0, \"no\":1})"
   ]
  },
  {
   "cell_type": "code",
   "execution_count": 7,
   "id": "f6cdd61f",
   "metadata": {
    "execution": {
     "iopub.execute_input": "2021-08-04T17:14:29.277437Z",
     "iopub.status.busy": "2021-08-04T17:14:29.276907Z",
     "iopub.status.idle": "2021-08-04T17:14:29.288803Z",
     "shell.execute_reply": "2021-08-04T17:14:29.288307Z",
     "shell.execute_reply.started": "2021-08-04T17:08:47.955539Z"
    },
    "papermill": {
     "duration": 0.039548,
     "end_time": "2021-08-04T17:14:29.288936",
     "exception": false,
     "start_time": "2021-08-04T17:14:29.249388",
     "status": "completed"
    },
    "tags": []
   },
   "outputs": [
    {
     "data": {
      "text/html": [
       "<div>\n",
       "<style scoped>\n",
       "    .dataframe tbody tr th:only-of-type {\n",
       "        vertical-align: middle;\n",
       "    }\n",
       "\n",
       "    .dataframe tbody tr th {\n",
       "        vertical-align: top;\n",
       "    }\n",
       "\n",
       "    .dataframe thead th {\n",
       "        text-align: right;\n",
       "    }\n",
       "</style>\n",
       "<table border=\"1\" class=\"dataframe\">\n",
       "  <thead>\n",
       "    <tr style=\"text-align: right;\">\n",
       "      <th></th>\n",
       "      <th>age</th>\n",
       "      <th>sex</th>\n",
       "      <th>bmi</th>\n",
       "      <th>children</th>\n",
       "      <th>smoker</th>\n",
       "      <th>region</th>\n",
       "      <th>charges</th>\n",
       "    </tr>\n",
       "  </thead>\n",
       "  <tbody>\n",
       "    <tr>\n",
       "      <th>0</th>\n",
       "      <td>19</td>\n",
       "      <td>1</td>\n",
       "      <td>27.900</td>\n",
       "      <td>0</td>\n",
       "      <td>0</td>\n",
       "      <td>southwest</td>\n",
       "      <td>16884.92400</td>\n",
       "    </tr>\n",
       "    <tr>\n",
       "      <th>1</th>\n",
       "      <td>18</td>\n",
       "      <td>0</td>\n",
       "      <td>33.770</td>\n",
       "      <td>1</td>\n",
       "      <td>1</td>\n",
       "      <td>southeast</td>\n",
       "      <td>1725.55230</td>\n",
       "    </tr>\n",
       "    <tr>\n",
       "      <th>2</th>\n",
       "      <td>28</td>\n",
       "      <td>0</td>\n",
       "      <td>33.000</td>\n",
       "      <td>3</td>\n",
       "      <td>1</td>\n",
       "      <td>southeast</td>\n",
       "      <td>4449.46200</td>\n",
       "    </tr>\n",
       "    <tr>\n",
       "      <th>3</th>\n",
       "      <td>33</td>\n",
       "      <td>0</td>\n",
       "      <td>22.705</td>\n",
       "      <td>0</td>\n",
       "      <td>1</td>\n",
       "      <td>northwest</td>\n",
       "      <td>21984.47061</td>\n",
       "    </tr>\n",
       "    <tr>\n",
       "      <th>4</th>\n",
       "      <td>32</td>\n",
       "      <td>0</td>\n",
       "      <td>28.880</td>\n",
       "      <td>0</td>\n",
       "      <td>1</td>\n",
       "      <td>northwest</td>\n",
       "      <td>3866.85520</td>\n",
       "    </tr>\n",
       "  </tbody>\n",
       "</table>\n",
       "</div>"
      ],
      "text/plain": [
       "   age  sex     bmi  children  smoker     region      charges\n",
       "0   19    1  27.900         0       0  southwest  16884.92400\n",
       "1   18    0  33.770         1       1  southeast   1725.55230\n",
       "2   28    0  33.000         3       1  southeast   4449.46200\n",
       "3   33    0  22.705         0       1  northwest  21984.47061\n",
       "4   32    0  28.880         0       1  northwest   3866.85520"
      ]
     },
     "execution_count": 7,
     "metadata": {},
     "output_type": "execute_result"
    }
   ],
   "source": [
    "df.head()"
   ]
  },
  {
   "cell_type": "code",
   "execution_count": 8,
   "id": "7ffa90a3",
   "metadata": {
    "execution": {
     "iopub.execute_input": "2021-08-04T17:14:29.359083Z",
     "iopub.status.busy": "2021-08-04T17:14:29.356045Z",
     "iopub.status.idle": "2021-08-04T17:14:29.621484Z",
     "shell.execute_reply": "2021-08-04T17:14:29.620909Z",
     "shell.execute_reply.started": "2021-08-04T17:08:47.98434Z"
    },
    "papermill": {
     "duration": 0.306624,
     "end_time": "2021-08-04T17:14:29.621645",
     "exception": false,
     "start_time": "2021-08-04T17:14:29.315021",
     "status": "completed"
    },
    "tags": []
   },
   "outputs": [
    {
     "data": {
      "image/png": "[encoded data removed]",
      "text/plain": [
       "<Figure size 576x432 with 1 Axes>"
      ]
     },
     "metadata": {
      "needs_background": "light"
     },
     "output_type": "display_data"
    }
   ],
   "source": [
    "# Having a look at the correlation matrix\n",
    "\n",
    "fig, ax = plt.subplots(figsize=(8,6))\n",
    "sns.heatmap(df.corr(), annot=True, fmt='.1g', cmap=\"viridis\", cbar=False);"
   ]
  },
  {
   "cell_type": "code",
   "execution_count": 9,
   "id": "fbc888fd",
   "metadata": {
    "execution": {
     "iopub.execute_input": "2021-08-04T17:14:29.708567Z",
     "iopub.status.busy": "2021-08-04T17:14:29.695387Z",
     "iopub.status.idle": "2021-08-04T17:14:29.804964Z",
     "shell.execute_reply": "2021-08-04T17:14:29.805369Z",
     "shell.execute_reply.started": "2021-08-04T17:08:48.231913Z"
    },
    "papermill": {
     "duration": 0.155478,
     "end_time": "2021-08-04T17:14:29.805539",
     "exception": false,
     "start_time": "2021-08-04T17:14:29.650061",
     "status": "completed"
    },
    "tags": []
   },
   "outputs": [
    {
     "data": {
      "image/png": "[encoded data removed]",
      "text/plain": [
       "<Figure size 504x504 with 1 Axes>"
      ]
     },
     "metadata": {},
     "output_type": "display_data"
    }
   ],
   "source": [
    "plt.style.use(\"seaborn\")\n",
    "fig, ax = plt.subplots(figsize=(7,7))\n",
    "plt.pie(x=df[\"sex\"].value_counts(), \n",
    "        colors=[\"skyblue\",\"pink\"], \n",
    "        labels=[\"Male\",\"Female\"], \n",
    "        shadow = True, \n",
    "        autopct=\"%1.2f%%\", \n",
    "        explode = (0, 0.1)\n",
    "        )\n",
    "plt.show()"
   ]
  },
  {
   "cell_type": "code",
   "execution_count": 10,
   "id": "a71a8092",
   "metadata": {
    "execution": {
     "iopub.execute_input": "2021-08-04T17:14:29.870635Z",
     "iopub.status.busy": "2021-08-04T17:14:29.869819Z",
     "iopub.status.idle": "2021-08-04T17:14:30.021209Z",
     "shell.execute_reply": "2021-08-04T17:14:30.020528Z",
     "shell.execute_reply.started": "2021-08-04T17:08:48.342021Z"
    },
    "papermill": {
     "duration": 0.184511,
     "end_time": "2021-08-04T17:14:30.021364",
     "exception": false,
     "start_time": "2021-08-04T17:14:29.836853",
     "status": "completed"
    },
    "tags": []
   },
   "outputs": [
    {
     "data": {
      "image/png": "[encoded data removed]",
      "text/plain": [
       "<Figure size 576x432 with 1 Axes>"
      ]
     },
     "metadata": {},
     "output_type": "display_data"
    }
   ],
   "source": [
    "plt.style.use(\"seaborn\")\n",
    "fig, ax = plt.subplots(figsize=(8,6))\n",
    "sns.countplot(df[\"children\"], palette=\"hls\");"
   ]
  },
  {
   "cell_type": "code",
   "execution_count": 11,
   "id": "164ec30e",
   "metadata": {
    "execution": {
     "iopub.execute_input": "2021-08-04T17:14:30.109635Z",
     "iopub.status.busy": "2021-08-04T17:14:30.108661Z",
     "iopub.status.idle": "2021-08-04T17:14:30.602258Z",
     "shell.execute_reply": "2021-08-04T17:14:30.601671Z",
     "shell.execute_reply.started": "2021-08-04T17:08:48.497679Z"
    },
    "papermill": {
     "duration": 0.551753,
     "end_time": "2021-08-04T17:14:30.602394",
     "exception": false,
     "start_time": "2021-08-04T17:14:30.050641",
     "status": "completed"
    },
    "tags": []
   },
   "outputs": [
    {
     "data": {
      "image/png": "[encoded data removed]",
      "text/plain": [
       "<Figure size 1440x432 with 1 Axes>"
      ]
     },
     "metadata": {},
     "output_type": "display_data"
    }
   ],
   "source": [
    "plt.style.use(\"seaborn\")\n",
    "fig, ax = plt.subplots(figsize=(20,6))\n",
    "sns.countplot(df[\"age\"]);"
   ]
  },
  {
   "cell_type": "code",
   "execution_count": 12,
   "id": "19b9d128",
   "metadata": {
    "execution": {
     "iopub.execute_input": "2021-08-04T17:14:30.684910Z",
     "iopub.status.busy": "2021-08-04T17:14:30.682564Z",
     "iopub.status.idle": "2021-08-04T17:14:31.068682Z",
     "shell.execute_reply": "2021-08-04T17:14:31.068156Z",
     "shell.execute_reply.started": "2021-08-04T17:08:49.02269Z"
    },
    "papermill": {
     "duration": 0.4373,
     "end_time": "2021-08-04T17:14:31.068822",
     "exception": false,
     "start_time": "2021-08-04T17:14:30.631522",
     "status": "completed"
    },
    "tags": []
   },
   "outputs": [
    {
     "data": {
      "image/png": "[encoded data removed]",
      "text/plain": [
       "<Figure size 576x432 with 1 Axes>"
      ]
     },
     "metadata": {},
     "output_type": "display_data"
    }
   ],
   "source": [
    "plt.style.use(\"seaborn\")\n",
    "fig, ax = plt.subplots(figsize=(8,6))\n",
    "sns.histplot(x = df[\"bmi\"], color=\"purple\", kde=True);"
   ]
  },
  {
   "cell_type": "code",
   "execution_count": 13,
   "id": "69268b2e",
   "metadata": {
    "execution": {
     "iopub.execute_input": "2021-08-04T17:14:31.264346Z",
     "iopub.status.busy": "2021-08-04T17:14:31.261946Z",
     "iopub.status.idle": "2021-08-04T17:14:31.354501Z",
     "shell.execute_reply": "2021-08-04T17:14:31.353866Z",
     "shell.execute_reply.started": "2021-08-04T17:08:49.30038Z"
    },
    "papermill": {
     "duration": 0.255302,
     "end_time": "2021-08-04T17:14:31.354661",
     "exception": false,
     "start_time": "2021-08-04T17:14:31.099359",
     "status": "completed"
    },
    "tags": []
   },
   "outputs": [
    {
     "data": {
      "image/png": "[encoded data removed]",
      "text/plain": [
       "<Figure size 504x504 with 1 Axes>"
      ]
     },
     "metadata": {},
     "output_type": "display_data"
    }
   ],
   "source": [
    "plt.style.use(\"seaborn\")\n",
    "fig, ax = plt.subplots(figsize=(7,7))\n",
    "plt.pie(x=df[\"smoker\"].value_counts(), \n",
    "        colors=[\"royalblue\",\"orangered\"], \n",
    "        labels=[\"Non-Smoker\",\"Smoker\"], \n",
    "        shadow = True, \n",
    "        autopct=\"%1.2f%%\", \n",
    "        explode = (0, 0.1)\n",
    "        )\n",
    "plt.show()"
   ]
  },
  {
   "cell_type": "code",
   "execution_count": 14,
   "id": "65f5f489",
   "metadata": {
    "execution": {
     "iopub.execute_input": "2021-08-04T17:14:31.444789Z",
     "iopub.status.busy": "2021-08-04T17:14:31.444146Z",
     "iopub.status.idle": "2021-08-04T17:14:31.559704Z",
     "shell.execute_reply": "2021-08-04T17:14:31.560131Z",
     "shell.execute_reply.started": "2021-08-04T17:08:49.537096Z"
    },
    "papermill": {
     "duration": 0.174223,
     "end_time": "2021-08-04T17:14:31.560304",
     "exception": false,
     "start_time": "2021-08-04T17:14:31.386081",
     "status": "completed"
    },
    "tags": []
   },
   "outputs": [
    {
     "data": {
      "image/png": "[encoded data removed]",
      "text/plain": [
       "<Figure size 576x432 with 1 Axes>"
      ]
     },
     "metadata": {},
     "output_type": "display_data"
    }
   ],
   "source": [
    "plt.style.use(\"seaborn\")\n",
    "fig, ax = plt.subplots(figsize=(8,6))\n",
    "sns.countplot(df[\"region\"]);"
   ]
  },
  {
   "cell_type": "code",
   "execution_count": 15,
   "id": "81f61a90",
   "metadata": {
    "execution": {
     "iopub.execute_input": "2021-08-04T17:14:31.641574Z",
     "iopub.status.busy": "2021-08-04T17:14:31.639968Z",
     "iopub.status.idle": "2021-08-04T17:14:31.861984Z",
     "shell.execute_reply": "2021-08-04T17:14:31.861454Z",
     "shell.execute_reply.started": "2021-08-04T17:08:49.682639Z"
    },
    "papermill": {
     "duration": 0.270324,
     "end_time": "2021-08-04T17:14:31.862115",
     "exception": false,
     "start_time": "2021-08-04T17:14:31.591791",
     "status": "completed"
    },
    "tags": []
   },
   "outputs": [
    {
     "data": {
      "image/png": "[encoded data removed]",
      "text/plain": [
       "<Figure size 576x432 with 1 Axes>"
      ]
     },
     "metadata": {},
     "output_type": "display_data"
    }
   ],
   "source": [
    "plt.style.use(\"seaborn\")\n",
    "fig, ax = plt.subplots(figsize=(8,6))\n",
    "sns.histplot(x = df[\"charges\"], color=\"darkgreen\", kde=True);"
   ]
  },
  {
   "cell_type": "code",
   "execution_count": 16,
   "id": "32ba12e2",
   "metadata": {
    "execution": {
     "iopub.execute_input": "2021-08-04T17:14:31.933634Z",
     "iopub.status.busy": "2021-08-04T17:14:31.932975Z",
     "iopub.status.idle": "2021-08-04T17:14:31.935773Z",
     "shell.execute_reply": "2021-08-04T17:14:31.936184Z",
     "shell.execute_reply.started": "2021-08-04T17:08:49.93458Z"
    },
    "papermill": {
     "duration": 0.041694,
     "end_time": "2021-08-04T17:14:31.936350",
     "exception": false,
     "start_time": "2021-08-04T17:14:31.894656",
     "status": "completed"
    },
    "tags": []
   },
   "outputs": [],
   "source": [
    "df.drop(\"region\", axis=1, inplace=True)"
   ]
  },
  {
   "cell_type": "code",
   "execution_count": 17,
   "id": "b35c5a4f",
   "metadata": {
    "execution": {
     "iopub.execute_input": "2021-08-04T17:14:32.005334Z",
     "iopub.status.busy": "2021-08-04T17:14:32.004734Z",
     "iopub.status.idle": "2021-08-04T17:14:32.345901Z",
     "shell.execute_reply": "2021-08-04T17:14:32.346343Z",
     "shell.execute_reply.started": "2021-08-04T17:08:49.944392Z"
    },
    "papermill": {
     "duration": 0.377049,
     "end_time": "2021-08-04T17:14:32.346500",
     "exception": false,
     "start_time": "2021-08-04T17:14:31.969451",
     "status": "completed"
    },
    "tags": []
   },
   "outputs": [
    {
     "data": {
      "image/png": "[encoded data removed]",
      "text/plain": [
       "<Figure size 1080x360 with 2 Axes>"
      ]
     },
     "metadata": {},
     "output_type": "display_data"
    }
   ],
   "source": [
    "plt.style.use(\"seaborn\")\n",
    "fig, ax =plt.subplots(1,2, figsize=(15,5)) \n",
    "\n",
    "sns.scatterplot(x = df['age'], y = df['charges'], ax=ax[0]);\n",
    "\n",
    "sns.scatterplot(x = df['bmi'], y = df['charges'], ax=ax[1]);"
   ]
  },
  {
   "cell_type": "markdown",
   "id": "587cb3ac",
   "metadata": {
    "papermill": {
     "duration": 0.035162,
     "end_time": "2021-08-04T17:14:32.418423",
     "exception": false,
     "start_time": "2021-08-04T17:14:32.383261",
     "status": "completed"
    },
    "tags": []
   },
   "source": [
    "## Splitting the data into training and test datasets\n",
    "Here, we are trying to predict the Insurance Charges has diabetes or not using the given data. Hence, the `charges` will be the y label and rest of the data will be the X or the input data."
   ]
  },
  {
   "cell_type": "code",
   "execution_count": 18,
   "id": "79300577",
   "metadata": {
    "execution": {
     "iopub.execute_input": "2021-08-04T17:14:32.493046Z",
     "iopub.status.busy": "2021-08-04T17:14:32.492154Z",
     "iopub.status.idle": "2021-08-04T17:14:32.503292Z",
     "shell.execute_reply": "2021-08-04T17:14:32.503708Z",
     "shell.execute_reply.started": "2021-08-04T17:08:50.313472Z"
    },
    "papermill": {
     "duration": 0.050122,
     "end_time": "2021-08-04T17:14:32.503875",
     "exception": false,
     "start_time": "2021-08-04T17:14:32.453753",
     "status": "completed"
    },
    "tags": []
   },
   "outputs": [
    {
     "data": {
      "text/html": [
       "<div>\n",
       "<style scoped>\n",
       "    .dataframe tbody tr th:only-of-type {\n",
       "        vertical-align: middle;\n",
       "    }\n",
       "\n",
       "    .dataframe tbody tr th {\n",
       "        vertical-align: top;\n",
       "    }\n",
       "\n",
       "    .dataframe thead th {\n",
       "        text-align: right;\n",
       "    }\n",
       "</style>\n",
       "<table border=\"1\" class=\"dataframe\">\n",
       "  <thead>\n",
       "    <tr style=\"text-align: right;\">\n",
       "      <th></th>\n",
       "      <th>age</th>\n",
       "      <th>sex</th>\n",
       "      <th>bmi</th>\n",
       "      <th>children</th>\n",
       "      <th>smoker</th>\n",
       "    </tr>\n",
       "  </thead>\n",
       "  <tbody>\n",
       "    <tr>\n",
       "      <th>0</th>\n",
       "      <td>19</td>\n",
       "      <td>1</td>\n",
       "      <td>27.900</td>\n",
       "      <td>0</td>\n",
       "      <td>0</td>\n",
       "    </tr>\n",
       "    <tr>\n",
       "      <th>1</th>\n",
       "      <td>18</td>\n",
       "      <td>0</td>\n",
       "      <td>33.770</td>\n",
       "      <td>1</td>\n",
       "      <td>1</td>\n",
       "    </tr>\n",
       "    <tr>\n",
       "      <th>2</th>\n",
       "      <td>28</td>\n",
       "      <td>0</td>\n",
       "      <td>33.000</td>\n",
       "      <td>3</td>\n",
       "      <td>1</td>\n",
       "    </tr>\n",
       "    <tr>\n",
       "      <th>3</th>\n",
       "      <td>33</td>\n",
       "      <td>0</td>\n",
       "      <td>22.705</td>\n",
       "      <td>0</td>\n",
       "      <td>1</td>\n",
       "    </tr>\n",
       "    <tr>\n",
       "      <th>4</th>\n",
       "      <td>32</td>\n",
       "      <td>0</td>\n",
       "      <td>28.880</td>\n",
       "      <td>0</td>\n",
       "      <td>1</td>\n",
       "    </tr>\n",
       "  </tbody>\n",
       "</table>\n",
       "</div>"
      ],
      "text/plain": [
       "   age  sex     bmi  children  smoker\n",
       "0   19    1  27.900         0       0\n",
       "1   18    0  33.770         1       1\n",
       "2   28    0  33.000         3       1\n",
       "3   33    0  22.705         0       1\n",
       "4   32    0  28.880         0       1"
      ]
     },
     "execution_count": 18,
     "metadata": {},
     "output_type": "execute_result"
    }
   ],
   "source": [
    "# X data\n",
    "X = df.drop(\"charges\",axis=1)\n",
    "X.head()"
   ]
  },
  {
   "cell_type": "code",
   "execution_count": 19,
   "id": "83d0ed85",
   "metadata": {
    "execution": {
     "iopub.execute_input": "2021-08-04T17:14:32.578350Z",
     "iopub.status.busy": "2021-08-04T17:14:32.577477Z",
     "iopub.status.idle": "2021-08-04T17:14:32.584231Z",
     "shell.execute_reply": "2021-08-04T17:14:32.584672Z",
     "shell.execute_reply.started": "2021-08-04T17:08:50.330411Z"
    },
    "papermill": {
     "duration": 0.045366,
     "end_time": "2021-08-04T17:14:32.584829",
     "exception": false,
     "start_time": "2021-08-04T17:14:32.539463",
     "status": "completed"
    },
    "tags": []
   },
   "outputs": [
    {
     "data": {
      "text/plain": [
       "0    16884.92400\n",
       "1     1725.55230\n",
       "2     4449.46200\n",
       "3    21984.47061\n",
       "4     3866.85520\n",
       "Name: charges, dtype: float64"
      ]
     },
     "execution_count": 19,
     "metadata": {},
     "output_type": "execute_result"
    }
   ],
   "source": [
    "# y data\n",
    "y = df[\"charges\"]\n",
    "y.head()"
   ]
  },
  {
   "cell_type": "code",
   "execution_count": 20,
   "id": "0529eead",
   "metadata": {
    "execution": {
     "iopub.execute_input": "2021-08-04T17:14:32.663568Z",
     "iopub.status.busy": "2021-08-04T17:14:32.662911Z",
     "iopub.status.idle": "2021-08-04T17:14:32.838189Z",
     "shell.execute_reply": "2021-08-04T17:14:32.837670Z",
     "shell.execute_reply.started": "2021-08-04T17:08:50.343547Z"
    },
    "papermill": {
     "duration": 0.215236,
     "end_time": "2021-08-04T17:14:32.838341",
     "exception": false,
     "start_time": "2021-08-04T17:14:32.623105",
     "status": "completed"
    },
    "tags": []
   },
   "outputs": [],
   "source": [
    "from sklearn.model_selection import train_test_split\n",
    "X_train, X_test, y_train, y_test = train_test_split(X, y, test_size=0.2, random_state=42)"
   ]
  },
  {
   "cell_type": "code",
   "execution_count": 21,
   "id": "f035f18e",
   "metadata": {
    "execution": {
     "iopub.execute_input": "2021-08-04T17:14:32.917397Z",
     "iopub.status.busy": "2021-08-04T17:14:32.916810Z",
     "iopub.status.idle": "2021-08-04T17:14:32.920572Z",
     "shell.execute_reply": "2021-08-04T17:14:32.920099Z",
     "shell.execute_reply.started": "2021-08-04T17:08:50.416475Z"
    },
    "papermill": {
     "duration": 0.04525,
     "end_time": "2021-08-04T17:14:32.920740",
     "exception": false,
     "start_time": "2021-08-04T17:14:32.875490",
     "status": "completed"
    },
    "tags": []
   },
   "outputs": [
    {
     "data": {
      "text/plain": [
       "(1070, 268)"
      ]
     },
     "execution_count": 21,
     "metadata": {},
     "output_type": "execute_result"
    }
   ],
   "source": [
    "len(X_train), len(X_test)"
   ]
  },
  {
   "cell_type": "code",
   "execution_count": 22,
   "id": "efa8b2a2",
   "metadata": {
    "execution": {
     "iopub.execute_input": "2021-08-04T17:14:32.996770Z",
     "iopub.status.busy": "2021-08-04T17:14:32.996199Z",
     "iopub.status.idle": "2021-08-04T17:14:33.006385Z",
     "shell.execute_reply": "2021-08-04T17:14:33.006869Z",
     "shell.execute_reply.started": "2021-08-04T17:08:50.427355Z"
    },
    "papermill": {
     "duration": 0.049653,
     "end_time": "2021-08-04T17:14:33.007063",
     "exception": false,
     "start_time": "2021-08-04T17:14:32.957410",
     "status": "completed"
    },
    "tags": []
   },
   "outputs": [],
   "source": [
    "# Scaling the data \n",
    "\n",
    "from sklearn.preprocessing import StandardScaler\n",
    "scaler = StandardScaler()\n",
    "X_train = scaler.fit_transform(X_train)\n",
    "X_test = scaler.transform(X_test)"
   ]
  },
  {
   "cell_type": "markdown",
   "id": "26c9d7a1",
   "metadata": {
    "papermill": {
     "duration": 0.03663,
     "end_time": "2021-08-04T17:14:33.080577",
     "exception": false,
     "start_time": "2021-08-04T17:14:33.043947",
     "status": "completed"
    },
    "tags": []
   },
   "source": [
    "## Linear Regression"
   ]
  },
  {
   "cell_type": "code",
   "execution_count": 23,
   "id": "247ec5fe",
   "metadata": {
    "execution": {
     "iopub.execute_input": "2021-08-04T17:14:33.157837Z",
     "iopub.status.busy": "2021-08-04T17:14:33.157250Z",
     "iopub.status.idle": "2021-08-04T17:14:33.280901Z",
     "shell.execute_reply": "2021-08-04T17:14:33.281325Z",
     "shell.execute_reply.started": "2021-08-04T17:08:50.449131Z"
    },
    "papermill": {
     "duration": 0.164405,
     "end_time": "2021-08-04T17:14:33.281505",
     "exception": false,
     "start_time": "2021-08-04T17:14:33.117100",
     "status": "completed"
    },
    "tags": []
   },
   "outputs": [
    {
     "data": {
      "text/plain": [
       "LinearRegression()"
      ]
     },
     "execution_count": 23,
     "metadata": {},
     "output_type": "execute_result"
    }
   ],
   "source": [
    "from sklearn.linear_model import LinearRegression\n",
    "lr = LinearRegression()\n",
    "lr.fit(X_train, y_train)"
   ]
  },
  {
   "cell_type": "code",
   "execution_count": 24,
   "id": "d5723fb5",
   "metadata": {
    "execution": {
     "iopub.execute_input": "2021-08-04T17:14:33.358464Z",
     "iopub.status.busy": "2021-08-04T17:14:33.357892Z",
     "iopub.status.idle": "2021-08-04T17:14:33.363694Z",
     "shell.execute_reply": "2021-08-04T17:14:33.364170Z",
     "shell.execute_reply.started": "2021-08-04T17:08:50.490104Z"
    },
    "papermill": {
     "duration": 0.045977,
     "end_time": "2021-08-04T17:14:33.364335",
     "exception": false,
     "start_time": "2021-08-04T17:14:33.318358",
     "status": "completed"
    },
    "tags": []
   },
   "outputs": [
    {
     "name": "stdout",
     "output_type": "stream",
     "text": [
      "Accuracy obtained by Linear Regression model: 78.11302113434097\n"
     ]
    }
   ],
   "source": [
    "LinearRegressionScore = lr.score(X_test, y_test)\n",
    "print(\"Accuracy obtained by Linear Regression model:\",LinearRegressionScore*100)"
   ]
  },
  {
   "cell_type": "markdown",
   "id": "342e11ef",
   "metadata": {
    "papermill": {
     "duration": 0.036754,
     "end_time": "2021-08-04T17:14:33.438781",
     "exception": false,
     "start_time": "2021-08-04T17:14:33.402027",
     "status": "completed"
    },
    "tags": []
   },
   "source": [
    "## Random Forest Regressor"
   ]
  },
  {
   "cell_type": "code",
   "execution_count": 25,
   "id": "a6277d47",
   "metadata": {
    "execution": {
     "iopub.execute_input": "2021-08-04T17:14:33.516659Z",
     "iopub.status.busy": "2021-08-04T17:14:33.516005Z",
     "iopub.status.idle": "2021-08-04T17:14:33.924304Z",
     "shell.execute_reply": "2021-08-04T17:14:33.924801Z",
     "shell.execute_reply.started": "2021-08-04T17:08:50.499595Z"
    },
    "papermill": {
     "duration": 0.449086,
     "end_time": "2021-08-04T17:14:33.924981",
     "exception": false,
     "start_time": "2021-08-04T17:14:33.475895",
     "status": "completed"
    },
    "tags": []
   },
   "outputs": [
    {
     "data": {
      "text/plain": [
       "RandomForestRegressor()"
      ]
     },
     "execution_count": 25,
     "metadata": {},
     "output_type": "execute_result"
    }
   ],
   "source": [
    "from sklearn.ensemble import RandomForestRegressor\n",
    "rf = RandomForestRegressor(n_estimators = 100)\n",
    "rf.fit(X_train,y_train)"
   ]
  },
  {
   "cell_type": "code",
   "execution_count": 26,
   "id": "5dbb499d",
   "metadata": {
    "execution": {
     "iopub.execute_input": "2021-08-04T17:14:34.003293Z",
     "iopub.status.busy": "2021-08-04T17:14:34.002713Z",
     "iopub.status.idle": "2021-08-04T17:14:34.022206Z",
     "shell.execute_reply": "2021-08-04T17:14:34.021745Z",
     "shell.execute_reply.started": "2021-08-04T17:08:50.871136Z"
    },
    "papermill": {
     "duration": 0.05937,
     "end_time": "2021-08-04T17:14:34.022342",
     "exception": false,
     "start_time": "2021-08-04T17:14:33.962972",
     "status": "completed"
    },
    "tags": []
   },
   "outputs": [
    {
     "name": "stdout",
     "output_type": "stream",
     "text": [
      "Accuracy obtained by Random Forest Regressor model: 85.96361285743728\n"
     ]
    }
   ],
   "source": [
    "RandomForestRegressorScore = rf.score(X_test, y_test)\n",
    "print(\"Accuracy obtained by Random Forest Regressor model:\",RandomForestRegressorScore*100)"
   ]
  },
  {
   "cell_type": "markdown",
   "id": "432e8ca6",
   "metadata": {
    "papermill": {
     "duration": 0.037915,
     "end_time": "2021-08-04T17:14:34.098191",
     "exception": false,
     "start_time": "2021-08-04T17:14:34.060276",
     "status": "completed"
    },
    "tags": []
   },
   "source": [
    "## Decision Tree Regressor"
   ]
  },
  {
   "cell_type": "code",
   "execution_count": 27,
   "id": "c06711d1",
   "metadata": {
    "execution": {
     "iopub.execute_input": "2021-08-04T17:14:34.178445Z",
     "iopub.status.busy": "2021-08-04T17:14:34.177856Z",
     "iopub.status.idle": "2021-08-04T17:14:34.185039Z",
     "shell.execute_reply": "2021-08-04T17:14:34.185538Z",
     "shell.execute_reply.started": "2021-08-04T17:08:50.898178Z"
    },
    "papermill": {
     "duration": 0.049844,
     "end_time": "2021-08-04T17:14:34.185721",
     "exception": false,
     "start_time": "2021-08-04T17:14:34.135877",
     "status": "completed"
    },
    "tags": []
   },
   "outputs": [
    {
     "data": {
      "text/plain": [
       "DecisionTreeRegressor()"
      ]
     },
     "execution_count": 27,
     "metadata": {},
     "output_type": "execute_result"
    }
   ],
   "source": [
    "from sklearn.tree import DecisionTreeRegressor\n",
    "tree = DecisionTreeRegressor()\n",
    "tree.fit(X_train,y_train)"
   ]
  },
  {
   "cell_type": "code",
   "execution_count": 28,
   "id": "9692d655",
   "metadata": {
    "execution": {
     "iopub.execute_input": "2021-08-04T17:14:34.265280Z",
     "iopub.status.busy": "2021-08-04T17:14:34.264377Z",
     "iopub.status.idle": "2021-08-04T17:14:34.270938Z",
     "shell.execute_reply": "2021-08-04T17:14:34.271363Z",
     "shell.execute_reply.started": "2021-08-04T17:08:50.913489Z"
    },
    "papermill": {
     "duration": 0.047697,
     "end_time": "2021-08-04T17:14:34.271537",
     "exception": false,
     "start_time": "2021-08-04T17:14:34.223840",
     "status": "completed"
    },
    "tags": []
   },
   "outputs": [
    {
     "name": "stdout",
     "output_type": "stream",
     "text": [
      "Accuracy obtained by Decision Tree Regressor model: 72.96531793738687\n"
     ]
    }
   ],
   "source": [
    "DecisionTreeRegressorScore = tree.score(X_test, y_test)\n",
    "print(\"Accuracy obtained by Decision Tree Regressor model:\",DecisionTreeRegressorScore*100)"
   ]
  },
  {
   "cell_type": "markdown",
   "id": "36d4db43",
   "metadata": {
    "papermill": {
     "duration": 0.038213,
     "end_time": "2021-08-04T17:14:34.347273",
     "exception": false,
     "start_time": "2021-08-04T17:14:34.309060",
     "status": "completed"
    },
    "tags": []
   },
   "source": [
    "## KNeighborsRegressor"
   ]
  },
  {
   "cell_type": "code",
   "execution_count": 29,
   "id": "928241af",
   "metadata": {
    "execution": {
     "iopub.execute_input": "2021-08-04T17:14:34.427639Z",
     "iopub.status.busy": "2021-08-04T17:14:34.427053Z",
     "iopub.status.idle": "2021-08-04T17:14:34.434960Z",
     "shell.execute_reply": "2021-08-04T17:14:34.435426Z",
     "shell.execute_reply.started": "2021-08-04T17:08:50.923023Z"
    },
    "papermill": {
     "duration": 0.050586,
     "end_time": "2021-08-04T17:14:34.435582",
     "exception": false,
     "start_time": "2021-08-04T17:14:34.384996",
     "status": "completed"
    },
    "tags": []
   },
   "outputs": [
    {
     "data": {
      "text/plain": [
       "KNeighborsRegressor()"
      ]
     },
     "execution_count": 29,
     "metadata": {},
     "output_type": "execute_result"
    }
   ],
   "source": [
    "from sklearn.neighbors import KNeighborsRegressor\n",
    "knn = KNeighborsRegressor()\n",
    "knn.fit(X_train, y_train)"
   ]
  },
  {
   "cell_type": "code",
   "execution_count": 30,
   "id": "097220f1",
   "metadata": {
    "execution": {
     "iopub.execute_input": "2021-08-04T17:14:34.517289Z",
     "iopub.status.busy": "2021-08-04T17:14:34.516400Z",
     "iopub.status.idle": "2021-08-04T17:14:34.522225Z",
     "shell.execute_reply": "2021-08-04T17:14:34.521769Z",
     "shell.execute_reply.started": "2021-08-04T17:08:50.943871Z"
    },
    "papermill": {
     "duration": 0.048612,
     "end_time": "2021-08-04T17:14:34.522352",
     "exception": false,
     "start_time": "2021-08-04T17:14:34.473740",
     "status": "completed"
    },
    "tags": []
   },
   "outputs": [
    {
     "name": "stdout",
     "output_type": "stream",
     "text": [
      "Accuracy obtained by K Neighbors Regressor model: 83.76909504566598\n"
     ]
    }
   ],
   "source": [
    "KNeighborsRegressorScore = knn.score(X_test, y_test)\n",
    "print(\"Accuracy obtained by K Neighbors Regressor model:\",KNeighborsRegressorScore*100)"
   ]
  },
  {
   "cell_type": "markdown",
   "id": "c34f012d",
   "metadata": {
    "papermill": {
     "duration": 0.037869,
     "end_time": "2021-08-04T17:14:34.598357",
     "exception": false,
     "start_time": "2021-08-04T17:14:34.560488",
     "status": "completed"
    },
    "tags": []
   },
   "source": [
    "## AdaBoost Regressor"
   ]
  },
  {
   "cell_type": "code",
   "execution_count": 31,
   "id": "38f1fafc",
   "metadata": {
    "execution": {
     "iopub.execute_input": "2021-08-04T17:14:34.680410Z",
     "iopub.status.busy": "2021-08-04T17:14:34.679805Z",
     "iopub.status.idle": "2021-08-04T17:14:34.706077Z",
     "shell.execute_reply": "2021-08-04T17:14:34.706497Z",
     "shell.execute_reply.started": "2021-08-04T17:08:50.963636Z"
    },
    "papermill": {
     "duration": 0.070051,
     "end_time": "2021-08-04T17:14:34.706692",
     "exception": false,
     "start_time": "2021-08-04T17:14:34.636641",
     "status": "completed"
    },
    "tags": []
   },
   "outputs": [
    {
     "data": {
      "text/plain": [
       "AdaBoostRegressor()"
      ]
     },
     "execution_count": 31,
     "metadata": {},
     "output_type": "execute_result"
    }
   ],
   "source": [
    "from sklearn.ensemble import AdaBoostRegressor\n",
    "ada = AdaBoostRegressor()\n",
    "ada.fit(X_train, y_train)"
   ]
  },
  {
   "cell_type": "code",
   "execution_count": 32,
   "id": "40dbc9fc",
   "metadata": {
    "execution": {
     "iopub.execute_input": "2021-08-04T17:14:34.787764Z",
     "iopub.status.busy": "2021-08-04T17:14:34.787183Z",
     "iopub.status.idle": "2021-08-04T17:14:34.793536Z",
     "shell.execute_reply": "2021-08-04T17:14:34.794043Z",
     "shell.execute_reply.started": "2021-08-04T17:08:51.002588Z"
    },
    "papermill": {
     "duration": 0.048075,
     "end_time": "2021-08-04T17:14:34.794207",
     "exception": false,
     "start_time": "2021-08-04T17:14:34.746132",
     "status": "completed"
    },
    "tags": []
   },
   "outputs": [
    {
     "name": "stdout",
     "output_type": "stream",
     "text": [
      "Accuracy obtained by AdaBoost Regressor model: 81.06337017277637\n"
     ]
    }
   ],
   "source": [
    "AdaBoostRegressorScore = ada.score(X_test, y_test)\n",
    "print(\"Accuracy obtained by AdaBoost Regressor model:\",AdaBoostRegressorScore*100)"
   ]
  },
  {
   "cell_type": "markdown",
   "id": "77d0a854",
   "metadata": {
    "papermill": {
     "duration": 0.03907,
     "end_time": "2021-08-04T17:14:34.872688",
     "exception": false,
     "start_time": "2021-08-04T17:14:34.833618",
     "status": "completed"
    },
    "tags": []
   },
   "source": [
    "## Gradient Boosting Regressor"
   ]
  },
  {
   "cell_type": "code",
   "execution_count": 33,
   "id": "d2b360ae",
   "metadata": {
    "execution": {
     "iopub.execute_input": "2021-08-04T17:14:34.958280Z",
     "iopub.status.busy": "2021-08-04T17:14:34.957330Z",
     "iopub.status.idle": "2021-08-04T17:14:35.055181Z",
     "shell.execute_reply": "2021-08-04T17:14:35.054698Z",
     "shell.execute_reply.started": "2021-08-04T17:08:51.014658Z"
    },
    "papermill": {
     "duration": 0.142879,
     "end_time": "2021-08-04T17:14:35.055319",
     "exception": false,
     "start_time": "2021-08-04T17:14:34.912440",
     "status": "completed"
    },
    "tags": []
   },
   "outputs": [
    {
     "data": {
      "text/plain": [
       "GradientBoostingRegressor()"
      ]
     },
     "execution_count": 33,
     "metadata": {},
     "output_type": "execute_result"
    }
   ],
   "source": [
    "from sklearn.ensemble import GradientBoostingRegressor\n",
    "gbr = GradientBoostingRegressor()\n",
    "gbr.fit(X_train, y_train)"
   ]
  },
  {
   "cell_type": "code",
   "execution_count": 34,
   "id": "ede70e2c",
   "metadata": {
    "execution": {
     "iopub.execute_input": "2021-08-04T17:14:35.141494Z",
     "iopub.status.busy": "2021-08-04T17:14:35.140906Z",
     "iopub.status.idle": "2021-08-04T17:14:35.146586Z",
     "shell.execute_reply": "2021-08-04T17:14:35.145708Z",
     "shell.execute_reply.started": "2021-08-04T17:08:51.123481Z"
    },
    "papermill": {
     "duration": 0.051712,
     "end_time": "2021-08-04T17:14:35.146803",
     "exception": false,
     "start_time": "2021-08-04T17:14:35.095091",
     "status": "completed"
    },
    "tags": []
   },
   "outputs": [
    {
     "name": "stdout",
     "output_type": "stream",
     "text": [
      "Accuracy obtained by Gradient Boosting Regressor model: 87.85117259694142\n"
     ]
    }
   ],
   "source": [
    "GradientBoostingRegressorScore = gbr.score(X_test, y_test)\n",
    "print(\"Accuracy obtained by Gradient Boosting Regressor model:\",GradientBoostingRegressorScore*100)"
   ]
  },
  {
   "cell_type": "code",
   "execution_count": 35,
   "id": "e340ca17",
   "metadata": {
    "execution": {
     "iopub.execute_input": "2021-08-04T17:14:35.255549Z",
     "iopub.status.busy": "2021-08-04T17:14:35.254631Z",
     "iopub.status.idle": "2021-08-04T17:14:35.412176Z",
     "shell.execute_reply": "2021-08-04T17:14:35.412643Z",
     "shell.execute_reply.started": "2021-08-04T17:08:51.132873Z"
    },
    "papermill": {
     "duration": 0.224682,
     "end_time": "2021-08-04T17:14:35.412824",
     "exception": false,
     "start_time": "2021-08-04T17:14:35.188142",
     "status": "completed"
    },
    "tags": []
   },
   "outputs": [
    {
     "data": {
      "image/png": "[encoded data removed]",
      "text/plain": [
       "<Figure size 576x432 with 1 Axes>"
      ]
     },
     "metadata": {},
     "output_type": "display_data"
    }
   ],
   "source": [
    "plt.style.use(\"seaborn\")\n",
    "\n",
    "x = [\"DecisionTreeRegressor\",\n",
    "     \"LinearRegression\", \n",
    "     \"AdaBoostRegressor\",\n",
    "     \"KNeighborsRegressor\", \n",
    "     \"RandomForestRegressor\", \n",
    "     \"GradientBoostingRegressor\"]\n",
    "\n",
    "y = [DecisionTreeRegressorScore,\n",
    "     LinearRegressionScore, \n",
    "     AdaBoostRegressorScore, \n",
    "     KNeighborsRegressorScore, \n",
    "     RandomForestRegressorScore, \n",
    "     GradientBoostingRegressorScore]\n",
    "\n",
    "fig, ax = plt.subplots(figsize=(8,6))\n",
    "sns.barplot(x=x,y=y, palette=\"crest\");\n",
    "plt.ylabel(\"Model Accuracy\")\n",
    "plt.xticks(rotation=40)\n",
    "plt.title(\"Model Comparison - Model Accuracy\", fontsize=14, fontname=\"Helvetica\", y=1.03);"
   ]
  }
 ],
 "metadata": {
  "kernelspec": {
   "display_name": "Python 3",
   "language": "python",
   "name": "python3"
  },
  "language_info": {
   "codemirror_mode": {
    "name": "ipython",
    "version": 3
   },
   "file_extension": ".py",
   "mimetype": "text/x-python",
   "name": "python",
   "nbconvert_exporter": "python",
   "pygments_lexer": "ipython3",
   "version": "3.7.10"
  },
  "papermill": {
   "default_parameters": {},
   "duration": 15.445898,
   "end_time": "2021-08-04T17:14:36.164135",
   "environment_variables": {},
   "exception": null,
   "input_path": "__notebook__.ipynb",
   "output_path": "__notebook__.ipynb",
   "parameters": {},
   "start_time": "2021-08-04T17:14:20.718237",
   "version": "2.3.3"
  }
 },
 "nbformat": 4,
 "nbformat_minor": 5
}
