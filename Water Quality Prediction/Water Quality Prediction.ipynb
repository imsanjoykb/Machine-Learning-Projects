{
 "cells": [
  {
   "cell_type": "code",
   "execution_count": 1,
   "id": "24ccc589",
   "metadata": {
    "_cell_guid": "b1076dfc-b9ad-4769-8c92-a6c4dae69d19",
    "_uuid": "8f2839f25d086af736a60e9eeb907d3b93b6e0e5",
    "execution": {
     "iopub.execute_input": "2021-08-18T19:17:05.189523Z",
     "iopub.status.busy": "2021-08-18T19:17:05.188429Z",
     "iopub.status.idle": "2021-08-18T19:17:06.214853Z",
     "shell.execute_reply": "2021-08-18T19:17:06.215366Z",
     "shell.execute_reply.started": "2021-08-15T10:17:33.817079Z"
    },
    "papermill": {
     "duration": 1.057474,
     "end_time": "2021-08-18T19:17:06.215655",
     "exception": false,
     "start_time": "2021-08-18T19:17:05.158181",
     "status": "completed"
    },
    "tags": []
   },
   "outputs": [
    {
     "name": "stdout",
     "output_type": "stream",
     "text": [
      "/kaggle/input/water-potability/water_potability.csv\n"
     ]
    }
   ],
   "source": [
    "# This Python 3 environment comes with many helpful analytics libraries installed\n",
    "# It is defined by the kaggle/python Docker image: https://github.com/kaggle/docker-python\n",
    "# For example, here's several helpful packages to load\n",
    "\n",
    "import numpy as np # linear algebra\n",
    "import pandas as pd # data processing, CSV file I/O (e.g. pd.read_csv)\n",
    "import seaborn as sns\n",
    "import matplotlib.pyplot as plt\n",
    "%matplotlib inline\n",
    "# Input data files are available in the read-only \"../input/\" directory\n",
    "# For example, running this (by clicking run or pressing Shift+Enter) will list all files under the input directory\n",
    "\n",
    "import os\n",
    "for dirname, _, filenames in os.walk('/kaggle/input'):\n",
    "    for filename in filenames:\n",
    "        print(os.path.join(dirname, filename))\n",
    "\n",
    "# You can write up to 20GB to the current directory (/kaggle/working/) that gets preserved as output when you create a version using \"Save & Run All\" \n",
    "# You can also write temporary files to /kaggle/temp/, but they won't be saved outside of the current session"
   ]
  },
  {
   "cell_type": "code",
   "execution_count": 2,
   "id": "28373544",
   "metadata": {
    "execution": {
     "iopub.execute_input": "2021-08-18T19:17:06.271952Z",
     "iopub.status.busy": "2021-08-18T19:17:06.271326Z",
     "iopub.status.idle": "2021-08-18T19:17:06.302718Z",
     "shell.execute_reply": "2021-08-18T19:17:06.302231Z",
     "shell.execute_reply.started": "2021-08-15T10:17:34.70853Z"
    },
    "papermill": {
     "duration": 0.061149,
     "end_time": "2021-08-18T19:17:06.302885",
     "exception": false,
     "start_time": "2021-08-18T19:17:06.241736",
     "status": "completed"
    },
    "tags": []
   },
   "outputs": [],
   "source": [
    "df=pd.read_csv('../input/water-potability/water_potability.csv')"
   ]
  },
  {
   "cell_type": "code",
   "execution_count": 3,
   "id": "c307748f",
   "metadata": {
    "execution": {
     "iopub.execute_input": "2021-08-18T19:17:06.365649Z",
     "iopub.status.busy": "2021-08-18T19:17:06.365075Z",
     "iopub.status.idle": "2021-08-18T19:17:06.385608Z",
     "shell.execute_reply": "2021-08-18T19:17:06.386138Z",
     "shell.execute_reply.started": "2021-08-15T10:17:34.744725Z"
    },
    "papermill": {
     "duration": 0.057744,
     "end_time": "2021-08-18T19:17:06.386363",
     "exception": false,
     "start_time": "2021-08-18T19:17:06.328619",
     "status": "completed"
    },
    "tags": []
   },
   "outputs": [
    {
     "data": {
      "text/html": [
       "<div>\n",
       "<style scoped>\n",
       "    .dataframe tbody tr th:only-of-type {\n",
       "        vertical-align: middle;\n",
       "    }\n",
       "\n",
       "    .dataframe tbody tr th {\n",
       "        vertical-align: top;\n",
       "    }\n",
       "\n",
       "    .dataframe thead th {\n",
       "        text-align: right;\n",
       "    }\n",
       "</style>\n",
       "<table border=\"1\" class=\"dataframe\">\n",
       "  <thead>\n",
       "    <tr style=\"text-align: right;\">\n",
       "      <th></th>\n",
       "      <th>ph</th>\n",
       "      <th>Hardness</th>\n",
       "      <th>Solids</th>\n",
       "      <th>Chloramines</th>\n",
       "      <th>Sulfate</th>\n",
       "      <th>Conductivity</th>\n",
       "      <th>Organic_carbon</th>\n",
       "      <th>Trihalomethanes</th>\n",
       "      <th>Turbidity</th>\n",
       "      <th>Potability</th>\n",
       "    </tr>\n",
       "  </thead>\n",
       "  <tbody>\n",
       "    <tr>\n",
       "      <th>0</th>\n",
       "      <td>NaN</td>\n",
       "      <td>204.890455</td>\n",
       "      <td>20791.318981</td>\n",
       "      <td>7.300212</td>\n",
       "      <td>368.516441</td>\n",
       "      <td>564.308654</td>\n",
       "      <td>10.379783</td>\n",
       "      <td>86.990970</td>\n",
       "      <td>2.963135</td>\n",
       "      <td>0</td>\n",
       "    </tr>\n",
       "    <tr>\n",
       "      <th>1</th>\n",
       "      <td>3.716080</td>\n",
       "      <td>129.422921</td>\n",
       "      <td>18630.057858</td>\n",
       "      <td>6.635246</td>\n",
       "      <td>NaN</td>\n",
       "      <td>592.885359</td>\n",
       "      <td>15.180013</td>\n",
       "      <td>56.329076</td>\n",
       "      <td>4.500656</td>\n",
       "      <td>0</td>\n",
       "    </tr>\n",
       "    <tr>\n",
       "      <th>2</th>\n",
       "      <td>8.099124</td>\n",
       "      <td>224.236259</td>\n",
       "      <td>19909.541732</td>\n",
       "      <td>9.275884</td>\n",
       "      <td>NaN</td>\n",
       "      <td>418.606213</td>\n",
       "      <td>16.868637</td>\n",
       "      <td>66.420093</td>\n",
       "      <td>3.055934</td>\n",
       "      <td>0</td>\n",
       "    </tr>\n",
       "    <tr>\n",
       "      <th>3</th>\n",
       "      <td>8.316766</td>\n",
       "      <td>214.373394</td>\n",
       "      <td>22018.417441</td>\n",
       "      <td>8.059332</td>\n",
       "      <td>356.886136</td>\n",
       "      <td>363.266516</td>\n",
       "      <td>18.436524</td>\n",
       "      <td>100.341674</td>\n",
       "      <td>4.628771</td>\n",
       "      <td>0</td>\n",
       "    </tr>\n",
       "    <tr>\n",
       "      <th>4</th>\n",
       "      <td>9.092223</td>\n",
       "      <td>181.101509</td>\n",
       "      <td>17978.986339</td>\n",
       "      <td>6.546600</td>\n",
       "      <td>310.135738</td>\n",
       "      <td>398.410813</td>\n",
       "      <td>11.558279</td>\n",
       "      <td>31.997993</td>\n",
       "      <td>4.075075</td>\n",
       "      <td>0</td>\n",
       "    </tr>\n",
       "  </tbody>\n",
       "</table>\n",
       "</div>"
      ],
      "text/plain": [
       "         ph    Hardness        Solids  Chloramines     Sulfate  Conductivity  \\\n",
       "0       NaN  204.890455  20791.318981     7.300212  368.516441    564.308654   \n",
       "1  3.716080  129.422921  18630.057858     6.635246         NaN    592.885359   \n",
       "2  8.099124  224.236259  19909.541732     9.275884         NaN    418.606213   \n",
       "3  8.316766  214.373394  22018.417441     8.059332  356.886136    363.266516   \n",
       "4  9.092223  181.101509  17978.986339     6.546600  310.135738    398.410813   \n",
       "\n",
       "   Organic_carbon  Trihalomethanes  Turbidity  Potability  \n",
       "0       10.379783        86.990970   2.963135           0  \n",
       "1       15.180013        56.329076   4.500656           0  \n",
       "2       16.868637        66.420093   3.055934           0  \n",
       "3       18.436524       100.341674   4.628771           0  \n",
       "4       11.558279        31.997993   4.075075           0  "
      ]
     },
     "execution_count": 3,
     "metadata": {},
     "output_type": "execute_result"
    }
   ],
   "source": [
    "df.head()"
   ]
  },
  {
   "cell_type": "markdown",
   "id": "cc362141",
   "metadata": {
    "papermill": {
     "duration": 0.026,
     "end_time": "2021-08-18T19:17:06.438597",
     "exception": false,
     "start_time": "2021-08-18T19:17:06.412597",
     "status": "completed"
    },
    "tags": []
   },
   "source": [
    "# Checking the percentage of null values"
   ]
  },
  {
   "cell_type": "code",
   "execution_count": 4,
   "id": "65919226",
   "metadata": {
    "execution": {
     "iopub.execute_input": "2021-08-18T19:17:06.504825Z",
     "iopub.status.busy": "2021-08-18T19:17:06.503910Z",
     "iopub.status.idle": "2021-08-18T19:17:06.531746Z",
     "shell.execute_reply": "2021-08-18T19:17:06.531280Z",
     "shell.execute_reply.started": "2021-08-15T10:17:34.773189Z"
    },
    "papermill": {
     "duration": 0.061963,
     "end_time": "2021-08-18T19:17:06.531942",
     "exception": false,
     "start_time": "2021-08-18T19:17:06.469979",
     "status": "completed"
    },
    "tags": []
   },
   "outputs": [
    {
     "data": {
      "text/plain": [
       "Sulfate            23.84\n",
       "ph                 14.99\n",
       "Trihalomethanes     4.95\n",
       "Hardness            0.00\n",
       "Solids              0.00\n",
       "Chloramines         0.00\n",
       "Conductivity        0.00\n",
       "Organic_carbon      0.00\n",
       "Turbidity           0.00\n",
       "Potability          0.00\n",
       "dtype: float64"
      ]
     },
     "execution_count": 4,
     "metadata": {},
     "output_type": "execute_result"
    }
   ],
   "source": [
    "(df.isnull().sum()/len(df)*100).sort_values(ascending=False).round(2)"
   ]
  },
  {
   "cell_type": "markdown",
   "id": "8c2306dc",
   "metadata": {
    "papermill": {
     "duration": 0.026787,
     "end_time": "2021-08-18T19:17:06.585356",
     "exception": false,
     "start_time": "2021-08-18T19:17:06.558569",
     "status": "completed"
    },
    "tags": []
   },
   "source": [
    "### Co-relation map to understand the data better"
   ]
  },
  {
   "cell_type": "code",
   "execution_count": 5,
   "id": "340c42bc",
   "metadata": {
    "execution": {
     "iopub.execute_input": "2021-08-18T19:17:06.657126Z",
     "iopub.status.busy": "2021-08-18T19:17:06.656426Z",
     "iopub.status.idle": "2021-08-18T19:17:07.485026Z",
     "shell.execute_reply": "2021-08-18T19:17:07.485458Z",
     "shell.execute_reply.started": "2021-08-15T10:17:34.798749Z"
    },
    "papermill": {
     "duration": 0.87391,
     "end_time": "2021-08-18T19:17:07.485630",
     "exception": false,
     "start_time": "2021-08-18T19:17:06.611720",
     "status": "completed"
    },
    "tags": []
   },
   "outputs": [
    {
     "data": {
      "text/plain": [
       "<AxesSubplot:>"
      ]
     },
     "execution_count": 5,
     "metadata": {},
     "output_type": "execute_result"
    },
    {
     "data": {
      "image/png": "[encoded data removed]",
      "text/plain": [
       "<Figure size 648x648 with 2 Axes>"
      ]
     },
     "metadata": {
      "needs_background": "light"
     },
     "output_type": "display_data"
    }
   ],
   "source": [
    "fig,ax=plt.subplots(figsize=(9,9))\n",
    "sns.heatmap(df.corr(),annot=True)"
   ]
  },
  {
   "cell_type": "markdown",
   "id": "16b2dc70",
   "metadata": {
    "papermill": {
     "duration": 0.028147,
     "end_time": "2021-08-18T19:17:07.542967",
     "exception": false,
     "start_time": "2021-08-18T19:17:07.514820",
     "status": "completed"
    },
    "tags": []
   },
   "source": [
    "## Approach used to fill null values:\n",
    "1. **Identify the column with null values**\n",
    "2. **Build Co-relation chart**\n",
    "3. **Form a new data-set with one column of missing values and other positive co-related values filled data**\n",
    "4. **Drop null values and Apply ML model and hyper-parameter tuning to find the best predicted value**\n",
    "5. **Repeat the steps 3-4 till all the columns are filled**"
   ]
  },
  {
   "cell_type": "code",
   "execution_count": 6,
   "id": "43d73dce",
   "metadata": {
    "execution": {
     "iopub.execute_input": "2021-08-18T19:17:07.606656Z",
     "iopub.status.busy": "2021-08-18T19:17:07.605844Z",
     "iopub.status.idle": "2021-08-18T19:17:07.609640Z",
     "shell.execute_reply": "2021-08-18T19:17:07.609150Z",
     "shell.execute_reply.started": "2021-08-15T10:17:35.689746Z"
    },
    "papermill": {
     "duration": 0.038327,
     "end_time": "2021-08-18T19:17:07.609791",
     "exception": false,
     "start_time": "2021-08-18T19:17:07.571464",
     "status": "completed"
    },
    "tags": []
   },
   "outputs": [],
   "source": [
    "df_sul=df[['Sulfate','Organic_carbon','Chloramines']]"
   ]
  },
  {
   "cell_type": "markdown",
   "id": "06b01ccd",
   "metadata": {
    "papermill": {
     "duration": 0.028271,
     "end_time": "2021-08-18T19:17:07.666974",
     "exception": false,
     "start_time": "2021-08-18T19:17:07.638703",
     "status": "completed"
    },
    "tags": []
   },
   "source": [
    "### Dropping null values"
   ]
  },
  {
   "cell_type": "code",
   "execution_count": 7,
   "id": "459fabab",
   "metadata": {
    "execution": {
     "iopub.execute_input": "2021-08-18T19:17:07.731271Z",
     "iopub.status.busy": "2021-08-18T19:17:07.729431Z",
     "iopub.status.idle": "2021-08-18T19:17:07.734369Z",
     "shell.execute_reply": "2021-08-18T19:17:07.733828Z",
     "shell.execute_reply.started": "2021-08-15T10:17:35.697582Z"
    },
    "papermill": {
     "duration": 0.038932,
     "end_time": "2021-08-18T19:17:07.734514",
     "exception": false,
     "start_time": "2021-08-18T19:17:07.695582",
     "status": "completed"
    },
    "tags": []
   },
   "outputs": [],
   "source": [
    "df_sul=df_sul.dropna()"
   ]
  },
  {
   "cell_type": "markdown",
   "id": "1e6ad4b5",
   "metadata": {
    "papermill": {
     "duration": 0.02883,
     "end_time": "2021-08-18T19:17:07.791988",
     "exception": false,
     "start_time": "2021-08-18T19:17:07.763158",
     "status": "completed"
    },
    "tags": []
   },
   "source": [
    "### Scaling the dataset"
   ]
  },
  {
   "cell_type": "code",
   "execution_count": 8,
   "id": "f308a4bd",
   "metadata": {
    "execution": {
     "iopub.execute_input": "2021-08-18T19:17:07.856378Z",
     "iopub.status.busy": "2021-08-18T19:17:07.855557Z",
     "iopub.status.idle": "2021-08-18T19:17:07.984987Z",
     "shell.execute_reply": "2021-08-18T19:17:07.985485Z",
     "shell.execute_reply.started": "2021-08-15T10:17:35.714101Z"
    },
    "papermill": {
     "duration": 0.164593,
     "end_time": "2021-08-18T19:17:07.985658",
     "exception": false,
     "start_time": "2021-08-18T19:17:07.821065",
     "status": "completed"
    },
    "tags": []
   },
   "outputs": [],
   "source": [
    "from sklearn.preprocessing import StandardScaler\n",
    "scaler=StandardScaler()\n",
    "scled=scaler.fit_transform(df_sul.drop('Sulfate',axis=1))"
   ]
  },
  {
   "cell_type": "markdown",
   "id": "6b5a273f",
   "metadata": {
    "papermill": {
     "duration": 0.028256,
     "end_time": "2021-08-18T19:17:08.042894",
     "exception": false,
     "start_time": "2021-08-18T19:17:08.014638",
     "status": "completed"
    },
    "tags": []
   },
   "source": [
    "### Splitting the data"
   ]
  },
  {
   "cell_type": "code",
   "execution_count": 9,
   "id": "8dbb885b",
   "metadata": {
    "execution": {
     "iopub.execute_input": "2021-08-18T19:17:08.118267Z",
     "iopub.status.busy": "2021-08-18T19:17:08.117208Z",
     "iopub.status.idle": "2021-08-18T19:17:08.182063Z",
     "shell.execute_reply": "2021-08-18T19:17:08.181397Z",
     "shell.execute_reply.started": "2021-08-15T10:17:35.839002Z"
    },
    "papermill": {
     "duration": 0.110966,
     "end_time": "2021-08-18T19:17:08.182272",
     "exception": false,
     "start_time": "2021-08-18T19:17:08.071306",
     "status": "completed"
    },
    "tags": []
   },
   "outputs": [],
   "source": [
    "from sklearn.model_selection import train_test_split\n",
    "x_tr,x_te,y_tr,y_te=train_test_split(scled,df_sul['Sulfate'],random_state=42,test_size=0.3)"
   ]
  },
  {
   "cell_type": "markdown",
   "id": "06c70421",
   "metadata": {
    "papermill": {
     "duration": 0.028795,
     "end_time": "2021-08-18T19:17:08.242684",
     "exception": false,
     "start_time": "2021-08-18T19:17:08.213889",
     "status": "completed"
    },
    "tags": []
   },
   "source": [
    "### Importing the model to predict the values for missing column"
   ]
  },
  {
   "cell_type": "code",
   "execution_count": 10,
   "id": "93342faa",
   "metadata": {
    "execution": {
     "iopub.execute_input": "2021-08-18T19:17:08.304624Z",
     "iopub.status.busy": "2021-08-18T19:17:08.303943Z",
     "iopub.status.idle": "2021-08-18T19:17:08.384510Z",
     "shell.execute_reply": "2021-08-18T19:17:08.383975Z",
     "shell.execute_reply.started": "2021-08-15T10:17:35.89167Z"
    },
    "papermill": {
     "duration": 0.113218,
     "end_time": "2021-08-18T19:17:08.384656",
     "exception": false,
     "start_time": "2021-08-18T19:17:08.271438",
     "status": "completed"
    },
    "tags": []
   },
   "outputs": [],
   "source": [
    "from sklearn.svm import SVR\n",
    "svr=SVR()"
   ]
  },
  {
   "cell_type": "markdown",
   "id": "421bbadc",
   "metadata": {
    "papermill": {
     "duration": 0.029128,
     "end_time": "2021-08-18T19:17:08.443645",
     "exception": false,
     "start_time": "2021-08-18T19:17:08.414517",
     "status": "completed"
    },
    "tags": []
   },
   "source": [
    "### For tuning the hyper-parameters"
   ]
  },
  {
   "cell_type": "code",
   "execution_count": 11,
   "id": "63c9f110",
   "metadata": {
    "execution": {
     "iopub.execute_input": "2021-08-18T19:17:08.508396Z",
     "iopub.status.busy": "2021-08-18T19:17:08.507688Z",
     "iopub.status.idle": "2021-08-18T19:17:08.510475Z",
     "shell.execute_reply": "2021-08-18T19:17:08.510922Z",
     "shell.execute_reply.started": "2021-08-15T10:17:35.965577Z"
    },
    "papermill": {
     "duration": 0.038102,
     "end_time": "2021-08-18T19:17:08.511108",
     "exception": false,
     "start_time": "2021-08-18T19:17:08.473006",
     "status": "completed"
    },
    "tags": []
   },
   "outputs": [],
   "source": [
    "from sklearn.model_selection import GridSearchCV\n",
    "param_grid={'kernel':['linear', 'poly', 'rbf', 'sigmoid'],'degree':[1,2],'gamma':['scale','auto'],'C':[1.2,1.3,1.4,1.7]}\n",
    "gs=GridSearchCV(svr,param_grid=param_grid,n_jobs=-1,cv=3,verbose=3)"
   ]
  },
  {
   "cell_type": "markdown",
   "id": "080b24ec",
   "metadata": {
    "papermill": {
     "duration": 0.028417,
     "end_time": "2021-08-18T19:17:08.569291",
     "exception": false,
     "start_time": "2021-08-18T19:17:08.540874",
     "status": "completed"
    },
    "tags": []
   },
   "source": [
    "### Fitting and predicting the data in Grid-search "
   ]
  },
  {
   "cell_type": "code",
   "execution_count": 12,
   "id": "61857dca",
   "metadata": {
    "execution": {
     "iopub.execute_input": "2021-08-18T19:17:08.631802Z",
     "iopub.status.busy": "2021-08-18T19:17:08.631189Z",
     "iopub.status.idle": "2021-08-18T19:17:18.044857Z",
     "shell.execute_reply": "2021-08-18T19:17:18.044305Z",
     "shell.execute_reply.started": "2021-08-15T10:17:35.971996Z"
    },
    "papermill": {
     "duration": 9.44694,
     "end_time": "2021-08-18T19:17:18.044999",
     "exception": false,
     "start_time": "2021-08-18T19:17:08.598059",
     "status": "completed"
    },
    "tags": []
   },
   "outputs": [
    {
     "name": "stdout",
     "output_type": "stream",
     "text": [
      "Fitting 3 folds for each of 64 candidates, totalling 192 fits\n"
     ]
    },
    {
     "name": "stderr",
     "output_type": "stream",
     "text": [
      "[Parallel(n_jobs=-1)]: Using backend LokyBackend with 4 concurrent workers.\n",
      "[Parallel(n_jobs=-1)]: Done  24 tasks      | elapsed:    2.9s\n",
      "[Parallel(n_jobs=-1)]: Done 120 tasks      | elapsed:    6.4s\n",
      "[Parallel(n_jobs=-1)]: Done 192 out of 192 | elapsed:    9.2s finished\n"
     ]
    }
   ],
   "source": [
    "gs.fit(x_tr,y_tr)\n",
    "sul_pr=gs.predict(x_te)"
   ]
  },
  {
   "cell_type": "markdown",
   "id": "28a4526d",
   "metadata": {
    "papermill": {
     "duration": 0.032819,
     "end_time": "2021-08-18T19:17:18.108736",
     "exception": false,
     "start_time": "2021-08-18T19:17:18.075917",
     "status": "completed"
    },
    "tags": []
   },
   "source": [
    "### Getting the column ready to be predicted"
   ]
  },
  {
   "cell_type": "code",
   "execution_count": 13,
   "id": "9a18a98c",
   "metadata": {
    "execution": {
     "iopub.execute_input": "2021-08-18T19:17:18.181410Z",
     "iopub.status.busy": "2021-08-18T19:17:18.180453Z",
     "iopub.status.idle": "2021-08-18T19:17:18.259426Z",
     "shell.execute_reply": "2021-08-18T19:17:18.258823Z",
     "shell.execute_reply.started": "2021-08-15T10:17:45.587808Z"
    },
    "papermill": {
     "duration": 0.119316,
     "end_time": "2021-08-18T19:17:18.259571",
     "exception": false,
     "start_time": "2021-08-18T19:17:18.140255",
     "status": "completed"
    },
    "tags": []
   },
   "outputs": [],
   "source": [
    "sulfatee=gs.predict(scaler.fit_transform(df[['Organic_carbon','Chloramines']]))"
   ]
  },
  {
   "cell_type": "markdown",
   "id": "279eaf1e",
   "metadata": {
    "papermill": {
     "duration": 0.030563,
     "end_time": "2021-08-18T19:17:18.324053",
     "exception": false,
     "start_time": "2021-08-18T19:17:18.293490",
     "status": "completed"
    },
    "tags": []
   },
   "source": [
    "### Adding new column in dataframe"
   ]
  },
  {
   "cell_type": "code",
   "execution_count": 14,
   "id": "898f1216",
   "metadata": {
    "execution": {
     "iopub.execute_input": "2021-08-18T19:17:18.390350Z",
     "iopub.status.busy": "2021-08-18T19:17:18.389685Z",
     "iopub.status.idle": "2021-08-18T19:17:18.391407Z",
     "shell.execute_reply": "2021-08-18T19:17:18.391834Z",
     "shell.execute_reply.started": "2021-08-15T10:17:45.643933Z"
    },
    "papermill": {
     "duration": 0.0379,
     "end_time": "2021-08-18T19:17:18.392014",
     "exception": false,
     "start_time": "2021-08-18T19:17:18.354114",
     "status": "completed"
    },
    "tags": []
   },
   "outputs": [],
   "source": [
    "df['sulfatee']=sulfatee"
   ]
  },
  {
   "cell_type": "markdown",
   "id": "81932a08",
   "metadata": {
    "papermill": {
     "duration": 0.029911,
     "end_time": "2021-08-18T19:17:18.452137",
     "exception": false,
     "start_time": "2021-08-18T19:17:18.422226",
     "status": "completed"
    },
    "tags": []
   },
   "source": [
    "### dropping the old column"
   ]
  },
  {
   "cell_type": "code",
   "execution_count": 15,
   "id": "da4baa23",
   "metadata": {
    "execution": {
     "iopub.execute_input": "2021-08-18T19:17:18.515551Z",
     "iopub.status.busy": "2021-08-18T19:17:18.514910Z",
     "iopub.status.idle": "2021-08-18T19:17:18.521363Z",
     "shell.execute_reply": "2021-08-18T19:17:18.520683Z",
     "shell.execute_reply.started": "2021-08-15T10:17:45.648945Z"
    },
    "papermill": {
     "duration": 0.039061,
     "end_time": "2021-08-18T19:17:18.521507",
     "exception": false,
     "start_time": "2021-08-18T19:17:18.482446",
     "status": "completed"
    },
    "tags": []
   },
   "outputs": [],
   "source": [
    "df.drop('Sulfate',axis=1,inplace=True)"
   ]
  },
  {
   "cell_type": "markdown",
   "id": "0acb6bd2",
   "metadata": {
    "papermill": {
     "duration": 0.029973,
     "end_time": "2021-08-18T19:17:18.581916",
     "exception": false,
     "start_time": "2021-08-18T19:17:18.551943",
     "status": "completed"
    },
    "tags": []
   },
   "source": [
    "### Fitting data for next column"
   ]
  },
  {
   "cell_type": "code",
   "execution_count": 16,
   "id": "381b3b4e",
   "metadata": {
    "execution": {
     "iopub.execute_input": "2021-08-18T19:17:18.650291Z",
     "iopub.status.busy": "2021-08-18T19:17:18.649576Z",
     "iopub.status.idle": "2021-08-18T19:17:30.542948Z",
     "shell.execute_reply": "2021-08-18T19:17:30.542375Z",
     "shell.execute_reply.started": "2021-08-15T10:17:45.662408Z"
    },
    "papermill": {
     "duration": 11.931073,
     "end_time": "2021-08-18T19:17:30.543109",
     "exception": false,
     "start_time": "2021-08-18T19:17:18.612036",
     "status": "completed"
    },
    "tags": []
   },
   "outputs": [
    {
     "name": "stdout",
     "output_type": "stream",
     "text": [
      "Fitting 3 folds for each of 64 candidates, totalling 192 fits\n"
     ]
    },
    {
     "name": "stderr",
     "output_type": "stream",
     "text": [
      "[Parallel(n_jobs=-1)]: Using backend LokyBackend with 4 concurrent workers.\n",
      "[Parallel(n_jobs=-1)]: Done  40 tasks      | elapsed:    2.5s\n",
      "[Parallel(n_jobs=-1)]: Done 192 out of 192 | elapsed:   11.6s finished\n"
     ]
    },
    {
     "data": {
      "text/plain": [
       "GridSearchCV(cv=3, estimator=SVR(), n_jobs=-1,\n",
       "             param_grid={'C': [1.2, 1.3, 1.4, 1.7], 'degree': [1, 2],\n",
       "                         'gamma': ['scale', 'auto'],\n",
       "                         'kernel': ['linear', 'poly', 'rbf', 'sigmoid']},\n",
       "             verbose=3)"
      ]
     },
     "execution_count": 16,
     "metadata": {},
     "output_type": "execute_result"
    }
   ],
   "source": [
    "tr_df=df[['Chloramines','Conductivity','Potability','Trihalomethanes']]\n",
    "tr_df=tr_df.dropna()\n",
    "tr_sc=scaler.fit_transform(tr_df.drop('Trihalomethanes',axis=1))\n",
    "tr_tr,tr_te,ytr_tr,yte_te=train_test_split(tr_sc,tr_df['Trihalomethanes'],random_state=42,test_size=0.3)\n",
    "gs.fit(tr_tr,ytr_tr)"
   ]
  },
  {
   "cell_type": "markdown",
   "id": "759282bd",
   "metadata": {
    "papermill": {
     "duration": 0.030395,
     "end_time": "2021-08-18T19:17:30.604490",
     "exception": false,
     "start_time": "2021-08-18T19:17:30.574095",
     "status": "completed"
    },
    "tags": []
   },
   "source": [
    "### Predicting the values"
   ]
  },
  {
   "cell_type": "code",
   "execution_count": 17,
   "id": "cdd4d072",
   "metadata": {
    "execution": {
     "iopub.execute_input": "2021-08-18T19:17:30.673918Z",
     "iopub.status.busy": "2021-08-18T19:17:30.673316Z",
     "iopub.status.idle": "2021-08-18T19:17:30.738850Z",
     "shell.execute_reply": "2021-08-18T19:17:30.738302Z",
     "shell.execute_reply.started": "2021-08-15T10:17:56.953138Z"
    },
    "papermill": {
     "duration": 0.103664,
     "end_time": "2021-08-18T19:17:30.739062",
     "exception": false,
     "start_time": "2021-08-18T19:17:30.635398",
     "status": "completed"
    },
    "tags": []
   },
   "outputs": [],
   "source": [
    "trr=gs.predict(scaler.fit_transform(df[['Chloramines','Conductivity','Potability']]))"
   ]
  },
  {
   "cell_type": "markdown",
   "id": "71aa49a7",
   "metadata": {
    "papermill": {
     "duration": 0.031217,
     "end_time": "2021-08-18T19:17:30.801605",
     "exception": false,
     "start_time": "2021-08-18T19:17:30.770388",
     "status": "completed"
    },
    "tags": []
   },
   "source": [
    "### Adding the data in df and dropping the old data"
   ]
  },
  {
   "cell_type": "code",
   "execution_count": 18,
   "id": "88da9d06",
   "metadata": {
    "execution": {
     "iopub.execute_input": "2021-08-18T19:17:30.869234Z",
     "iopub.status.busy": "2021-08-18T19:17:30.868605Z",
     "iopub.status.idle": "2021-08-18T19:17:30.871530Z",
     "shell.execute_reply": "2021-08-18T19:17:30.872016Z",
     "shell.execute_reply.started": "2021-08-15T10:17:57.023647Z"
    },
    "papermill": {
     "duration": 0.039606,
     "end_time": "2021-08-18T19:17:30.872202",
     "exception": false,
     "start_time": "2021-08-18T19:17:30.832596",
     "status": "completed"
    },
    "tags": []
   },
   "outputs": [],
   "source": [
    "df['trr']=trr\n",
    "df.drop('Trihalomethanes',axis=1,inplace=True)"
   ]
  },
  {
   "cell_type": "markdown",
   "id": "89b7f69f",
   "metadata": {
    "papermill": {
     "duration": 0.03105,
     "end_time": "2021-08-18T19:17:30.934309",
     "exception": false,
     "start_time": "2021-08-18T19:17:30.903259",
     "status": "completed"
    },
    "tags": []
   },
   "source": [
    "### Predicting values for missing ph column"
   ]
  },
  {
   "cell_type": "code",
   "execution_count": 19,
   "id": "9968a80f",
   "metadata": {
    "execution": {
     "iopub.execute_input": "2021-08-18T19:17:30.999605Z",
     "iopub.status.busy": "2021-08-18T19:17:30.999050Z",
     "iopub.status.idle": "2021-08-18T19:17:42.944137Z",
     "shell.execute_reply": "2021-08-18T19:17:42.944624Z",
     "shell.execute_reply.started": "2021-08-15T10:17:57.032398Z"
    },
    "papermill": {
     "duration": 11.979583,
     "end_time": "2021-08-18T19:17:42.944851",
     "exception": false,
     "start_time": "2021-08-18T19:17:30.965268",
     "status": "completed"
    },
    "tags": []
   },
   "outputs": [
    {
     "name": "stderr",
     "output_type": "stream",
     "text": [
      "/opt/conda/lib/python3.7/site-packages/ipykernel_launcher.py:2: SettingWithCopyWarning: \n",
      "A value is trying to be set on a copy of a slice from a DataFrame\n",
      "\n",
      "See the caveats in the documentation: https://pandas.pydata.org/pandas-docs/stable/user_guide/indexing.html#returning-a-view-versus-a-copy\n",
      "  \n",
      "[Parallel(n_jobs=-1)]: Using backend LokyBackend with 4 concurrent workers.\n"
     ]
    },
    {
     "name": "stdout",
     "output_type": "stream",
     "text": [
      "Fitting 3 folds for each of 64 candidates, totalling 192 fits\n"
     ]
    },
    {
     "name": "stderr",
     "output_type": "stream",
     "text": [
      "[Parallel(n_jobs=-1)]: Done  40 tasks      | elapsed:    2.7s\n",
      "[Parallel(n_jobs=-1)]: Done 192 out of 192 | elapsed:   11.7s finished\n"
     ]
    }
   ],
   "source": [
    "ph_df=df[['ph','Hardness','sulfatee','Conductivity','Organic_carbon','trr']]\n",
    "ph_df.dropna(inplace=True)\n",
    "ph_sc=scaler.fit_transform(ph_df.drop('ph',axis=1))\n",
    "x_tr,x_te,y_tr,y_te=train_test_split(ph_sc,ph_df['ph'],random_state=42,test_size=0.3)\n",
    "gs.fit(x_tr,y_tr)\n",
    "phh=gs.predict(df[['Hardness','sulfatee','Conductivity','Organic_carbon','trr']])\n",
    "df['phh']=phh\n",
    "df.drop('ph',axis=1,inplace=True)"
   ]
  },
  {
   "cell_type": "markdown",
   "id": "b77d3b47",
   "metadata": {
    "papermill": {
     "duration": 0.03491,
     "end_time": "2021-08-18T19:17:43.013623",
     "exception": false,
     "start_time": "2021-08-18T19:17:42.978713",
     "status": "completed"
    },
    "tags": []
   },
   "source": [
    "### Final data-set"
   ]
  },
  {
   "cell_type": "code",
   "execution_count": 20,
   "id": "b37b02e9",
   "metadata": {
    "execution": {
     "iopub.execute_input": "2021-08-18T19:17:43.098358Z",
     "iopub.status.busy": "2021-08-18T19:17:43.097517Z",
     "iopub.status.idle": "2021-08-18T19:17:43.100987Z",
     "shell.execute_reply": "2021-08-18T19:17:43.101439Z",
     "shell.execute_reply.started": "2021-08-15T10:18:08.022622Z"
    },
    "papermill": {
     "duration": 0.053775,
     "end_time": "2021-08-18T19:17:43.101607",
     "exception": false,
     "start_time": "2021-08-18T19:17:43.047832",
     "status": "completed"
    },
    "tags": []
   },
   "outputs": [
    {
     "data": {
      "text/html": [
       "<div>\n",
       "<style scoped>\n",
       "    .dataframe tbody tr th:only-of-type {\n",
       "        vertical-align: middle;\n",
       "    }\n",
       "\n",
       "    .dataframe tbody tr th {\n",
       "        vertical-align: top;\n",
       "    }\n",
       "\n",
       "    .dataframe thead th {\n",
       "        text-align: right;\n",
       "    }\n",
       "</style>\n",
       "<table border=\"1\" class=\"dataframe\">\n",
       "  <thead>\n",
       "    <tr style=\"text-align: right;\">\n",
       "      <th></th>\n",
       "      <th>Hardness</th>\n",
       "      <th>Solids</th>\n",
       "      <th>Chloramines</th>\n",
       "      <th>Conductivity</th>\n",
       "      <th>Organic_carbon</th>\n",
       "      <th>Turbidity</th>\n",
       "      <th>Potability</th>\n",
       "      <th>sulfatee</th>\n",
       "      <th>trr</th>\n",
       "      <th>phh</th>\n",
       "    </tr>\n",
       "  </thead>\n",
       "  <tbody>\n",
       "    <tr>\n",
       "      <th>0</th>\n",
       "      <td>204.890455</td>\n",
       "      <td>20791.318981</td>\n",
       "      <td>7.300212</td>\n",
       "      <td>564.308654</td>\n",
       "      <td>10.379783</td>\n",
       "      <td>2.963135</td>\n",
       "      <td>0</td>\n",
       "      <td>335.408437</td>\n",
       "      <td>65.776040</td>\n",
       "      <td>-16.577468</td>\n",
       "    </tr>\n",
       "    <tr>\n",
       "      <th>1</th>\n",
       "      <td>129.422921</td>\n",
       "      <td>18630.057858</td>\n",
       "      <td>6.635246</td>\n",
       "      <td>592.885359</td>\n",
       "      <td>15.180013</td>\n",
       "      <td>4.500656</td>\n",
       "      <td>0</td>\n",
       "      <td>334.885796</td>\n",
       "      <td>65.547685</td>\n",
       "      <td>-39.790184</td>\n",
       "    </tr>\n",
       "    <tr>\n",
       "      <th>2</th>\n",
       "      <td>224.236259</td>\n",
       "      <td>19909.541732</td>\n",
       "      <td>9.275884</td>\n",
       "      <td>418.606213</td>\n",
       "      <td>16.868637</td>\n",
       "      <td>3.055934</td>\n",
       "      <td>0</td>\n",
       "      <td>332.929631</td>\n",
       "      <td>66.708051</td>\n",
       "      <td>5.480949</td>\n",
       "    </tr>\n",
       "    <tr>\n",
       "      <th>3</th>\n",
       "      <td>214.373394</td>\n",
       "      <td>22018.417441</td>\n",
       "      <td>8.059332</td>\n",
       "      <td>363.266516</td>\n",
       "      <td>18.436524</td>\n",
       "      <td>4.628771</td>\n",
       "      <td>0</td>\n",
       "      <td>335.033124</td>\n",
       "      <td>66.739087</td>\n",
       "      <td>9.305726</td>\n",
       "    </tr>\n",
       "    <tr>\n",
       "      <th>4</th>\n",
       "      <td>181.101509</td>\n",
       "      <td>17978.986339</td>\n",
       "      <td>6.546600</td>\n",
       "      <td>398.410813</td>\n",
       "      <td>11.558279</td>\n",
       "      <td>4.075075</td>\n",
       "      <td>0</td>\n",
       "      <td>335.021410</td>\n",
       "      <td>66.344148</td>\n",
       "      <td>-3.708492</td>\n",
       "    </tr>\n",
       "  </tbody>\n",
       "</table>\n",
       "</div>"
      ],
      "text/plain": [
       "     Hardness        Solids  Chloramines  Conductivity  Organic_carbon  \\\n",
       "0  204.890455  20791.318981     7.300212    564.308654       10.379783   \n",
       "1  129.422921  18630.057858     6.635246    592.885359       15.180013   \n",
       "2  224.236259  19909.541732     9.275884    418.606213       16.868637   \n",
       "3  214.373394  22018.417441     8.059332    363.266516       18.436524   \n",
       "4  181.101509  17978.986339     6.546600    398.410813       11.558279   \n",
       "\n",
       "   Turbidity  Potability    sulfatee        trr        phh  \n",
       "0   2.963135           0  335.408437  65.776040 -16.577468  \n",
       "1   4.500656           0  334.885796  65.547685 -39.790184  \n",
       "2   3.055934           0  332.929631  66.708051   5.480949  \n",
       "3   4.628771           0  335.033124  66.739087   9.305726  \n",
       "4   4.075075           0  335.021410  66.344148  -3.708492  "
      ]
     },
     "execution_count": 20,
     "metadata": {},
     "output_type": "execute_result"
    }
   ],
   "source": [
    "df.head()"
   ]
  },
  {
   "cell_type": "code",
   "execution_count": 21,
   "id": "6b7ba6f5",
   "metadata": {
    "execution": {
     "iopub.execute_input": "2021-08-18T19:17:43.179700Z",
     "iopub.status.busy": "2021-08-18T19:17:43.178890Z",
     "iopub.status.idle": "2021-08-18T19:17:43.182779Z",
     "shell.execute_reply": "2021-08-18T19:17:43.183237Z",
     "shell.execute_reply.started": "2021-08-15T10:18:08.039773Z"
    },
    "papermill": {
     "duration": 0.047521,
     "end_time": "2021-08-18T19:17:43.183411",
     "exception": false,
     "start_time": "2021-08-18T19:17:43.135890",
     "status": "completed"
    },
    "tags": []
   },
   "outputs": [
    {
     "data": {
      "text/plain": [
       "Hardness          0.0\n",
       "Solids            0.0\n",
       "Chloramines       0.0\n",
       "Conductivity      0.0\n",
       "Organic_carbon    0.0\n",
       "Turbidity         0.0\n",
       "Potability        0.0\n",
       "sulfatee          0.0\n",
       "trr               0.0\n",
       "phh               0.0\n",
       "dtype: float64"
      ]
     },
     "execution_count": 21,
     "metadata": {},
     "output_type": "execute_result"
    }
   ],
   "source": [
    "(df.isnull().sum()/len(df)*100).round(2)"
   ]
  },
  {
   "cell_type": "markdown",
   "id": "12c8aabc",
   "metadata": {
    "papermill": {
     "duration": 0.033752,
     "end_time": "2021-08-18T19:17:43.252728",
     "exception": false,
     "start_time": "2021-08-18T19:17:43.218976",
     "status": "completed"
    },
    "tags": []
   },
   "source": [
    "### Building a model to predict the Potability"
   ]
  },
  {
   "cell_type": "code",
   "execution_count": 22,
   "id": "2b80ddae",
   "metadata": {
    "execution": {
     "iopub.execute_input": "2021-08-18T19:17:43.326584Z",
     "iopub.status.busy": "2021-08-18T19:17:43.325685Z",
     "iopub.status.idle": "2021-08-18T19:17:43.328809Z",
     "shell.execute_reply": "2021-08-18T19:17:43.328167Z",
     "shell.execute_reply.started": "2021-08-15T10:18:08.055754Z"
    },
    "papermill": {
     "duration": 0.042629,
     "end_time": "2021-08-18T19:17:43.328972",
     "exception": false,
     "start_time": "2021-08-18T19:17:43.286343",
     "status": "completed"
    },
    "tags": []
   },
   "outputs": [],
   "source": [
    "from sklearn.svm import SVC\n",
    "svc=SVC()\n",
    "param_grid={'C':[1.2,1.5,2.2,3.5,3.2,4.1],'kernel':['linear', 'poly', 'rbf', 'sigmoid'],'degree':[1,2,4,8,10],'gamma':['scale','auto']}\n",
    "gridsearch=GridSearchCV(svc,param_grid=param_grid,n_jobs=-1,verbose=4,cv=3)"
   ]
  },
  {
   "cell_type": "markdown",
   "id": "655b74a2",
   "metadata": {
    "papermill": {
     "duration": 0.033195,
     "end_time": "2021-08-18T19:17:43.395688",
     "exception": false,
     "start_time": "2021-08-18T19:17:43.362493",
     "status": "completed"
    },
    "tags": []
   },
   "source": [
    "### Scaling features"
   ]
  },
  {
   "cell_type": "code",
   "execution_count": 23,
   "id": "97e36cbc",
   "metadata": {
    "execution": {
     "iopub.execute_input": "2021-08-18T19:17:43.465744Z",
     "iopub.status.busy": "2021-08-18T19:17:43.465141Z",
     "iopub.status.idle": "2021-08-18T19:17:43.475146Z",
     "shell.execute_reply": "2021-08-18T19:17:43.474433Z",
     "shell.execute_reply.started": "2021-08-15T10:18:08.063329Z"
    },
    "papermill": {
     "duration": 0.046181,
     "end_time": "2021-08-18T19:17:43.475293",
     "exception": false,
     "start_time": "2021-08-18T19:17:43.429112",
     "status": "completed"
    },
    "tags": []
   },
   "outputs": [],
   "source": [
    "scaled_x=scaler.fit_transform(df.drop('Potability',axis=1))"
   ]
  },
  {
   "cell_type": "markdown",
   "id": "fb649578",
   "metadata": {
    "papermill": {
     "duration": 0.033369,
     "end_time": "2021-08-18T19:17:43.542425",
     "exception": false,
     "start_time": "2021-08-18T19:17:43.509056",
     "status": "completed"
    },
    "tags": []
   },
   "source": [
    "### Splitting the final Data-set"
   ]
  },
  {
   "cell_type": "code",
   "execution_count": 24,
   "id": "cd9faf52",
   "metadata": {
    "execution": {
     "iopub.execute_input": "2021-08-18T19:17:43.613889Z",
     "iopub.status.busy": "2021-08-18T19:17:43.613072Z",
     "iopub.status.idle": "2021-08-18T19:17:43.617031Z",
     "shell.execute_reply": "2021-08-18T19:17:43.616419Z",
     "shell.execute_reply.started": "2021-08-15T10:18:08.082685Z"
    },
    "papermill": {
     "duration": 0.042032,
     "end_time": "2021-08-18T19:17:43.617176",
     "exception": false,
     "start_time": "2021-08-18T19:17:43.575144",
     "status": "completed"
    },
    "tags": []
   },
   "outputs": [],
   "source": [
    "x_tr,x_te,y_tr,y_te=train_test_split(scaled_x,df['Potability'],random_state=42,test_size=0.3)"
   ]
  },
  {
   "cell_type": "code",
   "execution_count": 25,
   "id": "9f81cf5a",
   "metadata": {
    "execution": {
     "iopub.execute_input": "2021-08-18T19:17:43.689614Z",
     "iopub.status.busy": "2021-08-18T19:17:43.689030Z",
     "iopub.status.idle": "2021-08-18T19:17:43.693344Z",
     "shell.execute_reply": "2021-08-18T19:17:43.692535Z",
     "shell.execute_reply.started": "2021-08-15T10:18:08.09176Z"
    },
    "papermill": {
     "duration": 0.0424,
     "end_time": "2021-08-18T19:17:43.693504",
     "exception": false,
     "start_time": "2021-08-18T19:17:43.651104",
     "status": "completed"
    },
    "tags": []
   },
   "outputs": [
    {
     "data": {
      "text/plain": [
       "((2293, 9), (2293,))"
      ]
     },
     "execution_count": 25,
     "metadata": {},
     "output_type": "execute_result"
    }
   ],
   "source": [
    "x_tr.shape,y_tr.shape"
   ]
  },
  {
   "cell_type": "markdown",
   "id": "bfc7c9f7",
   "metadata": {
    "papermill": {
     "duration": 0.03393,
     "end_time": "2021-08-18T19:17:43.762384",
     "exception": false,
     "start_time": "2021-08-18T19:17:43.728454",
     "status": "completed"
    },
    "tags": []
   },
   "source": [
    "### Fitting The data"
   ]
  },
  {
   "cell_type": "code",
   "execution_count": 26,
   "id": "af8aa74d",
   "metadata": {
    "execution": {
     "iopub.execute_input": "2021-08-18T19:17:43.833639Z",
     "iopub.status.busy": "2021-08-18T19:17:43.832974Z",
     "iopub.status.idle": "2021-08-18T19:18:06.178231Z",
     "shell.execute_reply": "2021-08-18T19:18:06.178716Z",
     "shell.execute_reply.started": "2021-08-15T10:18:08.099883Z"
    },
    "papermill": {
     "duration": 22.382577,
     "end_time": "2021-08-18T19:18:06.178959",
     "exception": false,
     "start_time": "2021-08-18T19:17:43.796382",
     "status": "completed"
    },
    "tags": []
   },
   "outputs": [
    {
     "name": "stdout",
     "output_type": "stream",
     "text": [
      "Fitting 3 folds for each of 240 candidates, totalling 720 fits\n"
     ]
    },
    {
     "name": "stderr",
     "output_type": "stream",
     "text": [
      "[Parallel(n_jobs=-1)]: Using backend LokyBackend with 4 concurrent workers.\n",
      "[Parallel(n_jobs=-1)]: Done  28 tasks      | elapsed:    0.6s\n",
      "[Parallel(n_jobs=-1)]: Done 320 tasks      | elapsed:    9.4s\n",
      "[Parallel(n_jobs=-1)]: Done 713 out of 720 | elapsed:   22.2s remaining:    0.2s\n",
      "[Parallel(n_jobs=-1)]: Done 720 out of 720 | elapsed:   22.3s finished\n"
     ]
    },
    {
     "data": {
      "text/plain": [
       "GridSearchCV(cv=3, estimator=SVC(), n_jobs=-1,\n",
       "             param_grid={'C': [1.2, 1.5, 2.2, 3.5, 3.2, 4.1],\n",
       "                         'degree': [1, 2, 4, 8, 10], 'gamma': ['scale', 'auto'],\n",
       "                         'kernel': ['linear', 'poly', 'rbf', 'sigmoid']},\n",
       "             verbose=4)"
      ]
     },
     "execution_count": 26,
     "metadata": {},
     "output_type": "execute_result"
    }
   ],
   "source": [
    "gridsearch.fit(x_tr,y_tr)"
   ]
  },
  {
   "cell_type": "code",
   "execution_count": 27,
   "id": "7a2250b7",
   "metadata": {
    "execution": {
     "iopub.execute_input": "2021-08-18T19:18:06.279375Z",
     "iopub.status.busy": "2021-08-18T19:18:06.278419Z",
     "iopub.status.idle": "2021-08-18T19:18:06.281931Z",
     "shell.execute_reply": "2021-08-18T19:18:06.282324Z",
     "shell.execute_reply.started": "2021-08-15T10:18:29.526192Z"
    },
    "papermill": {
     "duration": 0.045917,
     "end_time": "2021-08-18T19:18:06.282486",
     "exception": false,
     "start_time": "2021-08-18T19:18:06.236569",
     "status": "completed"
    },
    "tags": []
   },
   "outputs": [
    {
     "data": {
      "text/plain": [
       "{'C': 1.2, 'degree': 1, 'gamma': 'scale', 'kernel': 'linear'}"
      ]
     },
     "execution_count": 27,
     "metadata": {},
     "output_type": "execute_result"
    }
   ],
   "source": [
    "gridsearch.best_params_"
   ]
  },
  {
   "cell_type": "markdown",
   "id": "40479384",
   "metadata": {
    "papermill": {
     "duration": 0.034841,
     "end_time": "2021-08-18T19:18:06.354107",
     "exception": false,
     "start_time": "2021-08-18T19:18:06.319266",
     "status": "completed"
    },
    "tags": []
   },
   "source": [
    "### Predicting the values with best model"
   ]
  },
  {
   "cell_type": "code",
   "execution_count": 28,
   "id": "8fb7682a",
   "metadata": {
    "execution": {
     "iopub.execute_input": "2021-08-18T19:18:06.433177Z",
     "iopub.status.busy": "2021-08-18T19:18:06.432346Z",
     "iopub.status.idle": "2021-08-18T19:18:06.436120Z",
     "shell.execute_reply": "2021-08-18T19:18:06.436711Z",
     "shell.execute_reply.started": "2021-08-15T10:18:29.533617Z"
    },
    "papermill": {
     "duration": 0.047554,
     "end_time": "2021-08-18T19:18:06.436923",
     "exception": false,
     "start_time": "2021-08-18T19:18:06.389369",
     "status": "completed"
    },
    "tags": []
   },
   "outputs": [
    {
     "name": "stdout",
     "output_type": "stream",
     "text": [
      "[[617   0]\n",
      " [  0 366]]\n"
     ]
    }
   ],
   "source": [
    "predicted_y=gridsearch.predict(x_te)\n",
    "from sklearn.metrics import confusion_matrix\n",
    "print(confusion_matrix(y_te,predicted_y))"
   ]
  },
  {
   "cell_type": "markdown",
   "id": "776d8f9b",
   "metadata": {
    "papermill": {
     "duration": 0.035218,
     "end_time": "2021-08-18T19:18:06.507800",
     "exception": false,
     "start_time": "2021-08-18T19:18:06.472582",
     "status": "completed"
    },
    "tags": []
   },
   "source": [
    "### Testing the accuracy"
   ]
  },
  {
   "cell_type": "code",
   "execution_count": 29,
   "id": "80102da1",
   "metadata": {
    "execution": {
     "iopub.execute_input": "2021-08-18T19:18:06.584192Z",
     "iopub.status.busy": "2021-08-18T19:18:06.583519Z",
     "iopub.status.idle": "2021-08-18T19:18:06.589378Z",
     "shell.execute_reply": "2021-08-18T19:18:06.588791Z",
     "shell.execute_reply.started": "2021-08-15T10:18:29.55085Z"
    },
    "papermill": {
     "duration": 0.046238,
     "end_time": "2021-08-18T19:18:06.589525",
     "exception": false,
     "start_time": "2021-08-18T19:18:06.543287",
     "status": "completed"
    },
    "tags": []
   },
   "outputs": [
    {
     "data": {
      "text/plain": [
       "1.0"
      ]
     },
     "execution_count": 29,
     "metadata": {},
     "output_type": "execute_result"
    }
   ],
   "source": [
    "from sklearn.metrics import accuracy_score\n",
    "accuracy_score(y_te,predicted_y)"
   ]
  },
  {
   "cell_type": "markdown",
   "id": "a4fe64d2",
   "metadata": {
    "papermill": {
     "duration": 0.037269,
     "end_time": "2021-08-18T19:18:06.663275",
     "exception": false,
     "start_time": "2021-08-18T19:18:06.626006",
     "status": "completed"
    },
    "tags": []
   },
   "source": [
    "### 100% Accuracy achieved"
   ]
  }
 ],
 "metadata": {
  "kernelspec": {
   "display_name": "Python 3",
   "language": "python",
   "name": "python3"
  },
  "language_info": {
   "codemirror_mode": {
    "name": "ipython",
    "version": 3
   },
   "file_extension": ".py",
   "mimetype": "text/x-python",
   "name": "python",
   "nbconvert_exporter": "python",
   "pygments_lexer": "ipython3",
   "version": "3.7.10"
  },
  "papermill": {
   "default_parameters": {},
   "duration": 69.799738,
   "end_time": "2021-08-18T19:18:08.006581",
   "environment_variables": {},
   "exception": null,
   "input_path": "__notebook__.ipynb",
   "output_path": "__notebook__.ipynb",
   "parameters": {},
   "start_time": "2021-08-18T19:16:58.206843",
   "version": "2.3.3"
  }
 },
 "nbformat": 4,
 "nbformat_minor": 5
}
